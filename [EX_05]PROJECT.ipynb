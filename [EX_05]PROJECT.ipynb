{
 "cells": [
  {
   "cell_type": "markdown",
   "id": "2bb40d6e",
   "metadata": {},
   "source": [
    "# 미니 프로젝트 : 가위바위보 분류기를 만들자"
   ]
  },
  {
   "cell_type": "markdown",
   "id": "bb2e0888",
   "metadata": {},
   "source": [
    "## 라이브러리 버전을 확인해 봅니다\n",
    "사용할 라이브러리 버전을 둘러봅시다.\n",
    "\n"
   ]
  },
  {
   "cell_type": "code",
   "execution_count": 1,
   "id": "d2399ae6",
   "metadata": {},
   "outputs": [
    {
     "name": "stdout",
     "output_type": "stream",
     "text": [
      "2.6.0\n",
      "1.21.4\n"
     ]
    }
   ],
   "source": [
    "import tensorflow as tf\n",
    "import numpy as np\n",
    "\n",
    "print(tf.__version__)\n",
    "print(np.__version__)"
   ]
  },
  {
   "cell_type": "code",
   "execution_count": 2,
   "id": "d2a38b36",
   "metadata": {},
   "outputs": [],
   "source": [
    "import tensorflow as tf\n",
    "from tensorflow import keras\n",
    "\n",
    "import numpy as np\n",
    "import matplotlib.pyplot as plt\n",
    "import os\n"
   ]
  },
  {
   "cell_type": "markdown",
   "id": "5e8f20ed",
   "metadata": {},
   "source": [
    "## 데이터를 준비하자\n",
    "웹캠이 없다면 아래 섹션을 이용해보자\n",
    "- mkdir -p ~/aiffel/rock_scissor_paper    \n",
    "- ln -s ~/data/* ~/aiffel/rock_scissor_paper\n",
    "- cd ~/aiffel/rock_scissor_paper && unzip data.zip\n"
   ]
  },
  {
   "cell_type": "markdown",
   "id": "8bf6b8d2",
   "metadata": {},
   "source": [
    "## 데이터 불러오기 + Resize 하기\n",
    "(5) 숫자 손글씨의 경우 이미지 크기가 28x28 이었기 때문에, 우리의 가위, 바위, 보 이미지도 28x28로 만들어야 합니다. 이를 위해서는 PIL 라이브러리를 사용해볼 거예요. 그러려면 먼저 라이브러리를 불러와야 겠죠?"
   ]
  },
  {
   "cell_type": "code",
   "execution_count": 3,
   "id": "679e6394",
   "metadata": {},
   "outputs": [
    {
     "name": "stdout",
     "output_type": "stream",
     "text": [
      "PIL 라이브러리 import 완료!\n"
     ]
    }
   ],
   "source": [
    "from PIL import Image\n",
    "import glob\n",
    "import os\n",
    "\n",
    "print(\"PIL 라이브러리 import 완료!\")"
   ]
  },
  {
   "cell_type": "code",
   "execution_count": 4,
   "id": "33a255d2",
   "metadata": {},
   "outputs": [
    {
     "name": "stdout",
     "output_type": "stream",
     "text": [
      "131  images to be resized.\n",
      "131  images resized.\n",
      "가위 이미지 resize 완료!\n"
     ]
    }
   ],
   "source": [
    "def resize_images(img_path):\n",
    "\timages=glob.glob(img_path + \"/*.jpg\")  \n",
    "    \n",
    "\tprint(len(images), \" images to be resized.\")\n",
    "\n",
    "    # 파일마다 모두 28x28 사이즈로 바꾸어 저장합니다.\n",
    "\ttarget_size=(28,28)\n",
    "\tfor img in images:\n",
    "\t\told_img=Image.open(img)\n",
    "\t\tnew_img=old_img.resize(target_size,Image.ANTIALIAS)\n",
    "\t\tnew_img.save(img, \"JPEG\")\n",
    "    \n",
    "\tprint(len(images), \" images resized.\")\n",
    "\t\n",
    "# 가위 이미지가 저장된 디렉토리 아래의 모든 jpg 파일을 읽어들여서\n",
    "image_dir_path = os.getenv(\"HOME\") + \"/aiffel/rock_scissor_paper/scissor\"\n",
    "resize_images(image_dir_path)\n",
    "\n",
    "print(\"가위 이미지 resize 완료!\")"
   ]
  },
  {
   "cell_type": "markdown",
   "id": "fc38c589",
   "metadata": {},
   "source": [
    "자 그러면, 바위 이미지도 28x28 로 만들어 볼까요? 아래 빈 칸에 코드를 작성하고, 실행해보세요. 바위 이미지가 모두 28x28로 바뀌어야 합니다."
   ]
  },
  {
   "cell_type": "code",
   "execution_count": 5,
   "id": "82299a30",
   "metadata": {},
   "outputs": [
    {
     "name": "stdout",
     "output_type": "stream",
     "text": [
      "131  images to be resized.\n",
      "131  images resized.\n",
      "바위 이미지 resize 완료!\n"
     ]
    }
   ],
   "source": [
    "image_dir_path = os.getenv(\"HOME\") + \"/aiffel/rock_scissor_paper/rock\"\n",
    "resize_images(image_dir_path)\n",
    "\n",
    "print(\"바위 이미지 resize 완료!\")"
   ]
  },
  {
   "cell_type": "markdown",
   "id": "51571dae",
   "metadata": {},
   "source": [
    "마지막으로 보 이미지도 28x28로 만들어 봅시다."
   ]
  },
  {
   "cell_type": "code",
   "execution_count": 6,
   "id": "3a3a2324",
   "metadata": {},
   "outputs": [
    {
     "name": "stdout",
     "output_type": "stream",
     "text": [
      "131  images to be resized.\n",
      "131  images resized.\n",
      "보 이미지 resize 완료!\n"
     ]
    }
   ],
   "source": [
    "image_dir_path = os.getenv(\"HOME\") + \"/aiffel/rock_scissor_paper/paper\"\n",
    "resize_images(image_dir_path)\n",
    "\n",
    "print(\"보 이미지 resize 완료!\")"
   ]
  },
  {
   "cell_type": "markdown",
   "id": "ab201c70",
   "metadata": {},
   "source": [
    "(6) 숫자 손글씨 인식기는 mnist.load_data() 라는 함수로 데이터를 읽었던 것 기억하시죠? 여러분들이 아직 코딩에 익숙하지 않을 수 있으므로, 가위, 바위, 보 데이터를 읽을 수 있는 load_data() 함수를 만들어 드릴 거예요. 이 코드를 활용하면 임의의 사진 데이터(ex. 귤이 잘 익었나, 안 익었나? 웃는 얼굴인가, 우는 얼굴인가, 평범한 표정의 얼굴인가? 등)에 적용하실 수 있을 겁니다.\n",
    "\n",
    "load_data() 함수는 입력으로 이미지가 있는 폴더 위치를 받습니다. 여기서는 rock_scissor_paper 폴더 위치를 적어주면 됩니다. 숫자 손글씨는 0~9 까지의 클래스가 있었던 것 기억하시죠? 가위바위보의 경우 3개의 클래스 즉, 가위: 0, 바위: 1, 보: 2 로 라벨링이 될 것입니다."
   ]
  },
  {
   "cell_type": "code",
   "execution_count": 7,
   "id": "9d37bf9a",
   "metadata": {},
   "outputs": [
    {
     "name": "stdout",
     "output_type": "stream",
     "text": [
      "학습데이터(x_train)의 이미지 개수는 393 입니다.\n",
      "x_train shape: (393, 28, 28, 3)\n",
      "y_train shape: (393,)\n"
     ]
    }
   ],
   "source": [
    "import numpy as np\n",
    "\n",
    "def load_data(img_path, number_of_data=393):  # 가위바위보 이미지 개수 총합에 주의하세요.\n",
    "    # 가위 : 0, 바위 : 1, 보 : 2\n",
    "    img_size=28\n",
    "    color=3\n",
    "    #이미지 데이터와 라벨(가위 : 0, 바위 : 1, 보 : 2) 데이터를 담을 행렬(matrix) 영역을 생성합니다.\n",
    "    imgs=np.zeros(number_of_data*img_size*img_size*color,dtype=np.int32).reshape(number_of_data,img_size,img_size,color)\n",
    "    labels=np.zeros(number_of_data,dtype=np.int32)\n",
    "\n",
    "    idx=0\n",
    "    for file in glob.iglob(img_path+'/scissor/*.jpg'):\n",
    "        img = np.array(Image.open(file),dtype=np.int32)\n",
    "        imgs[idx,:,:,:]=img    # 데이터 영역에 이미지 행렬을 복사\n",
    "        labels[idx]=0   # 가위 : 0\n",
    "        idx=idx+1\n",
    "\n",
    "    for file in glob.iglob(img_path+'/rock/*.jpg'):\n",
    "        img = np.array(Image.open(file),dtype=np.int32)\n",
    "        imgs[idx,:,:,:]=img    # 데이터 영역에 이미지 행렬을 복사\n",
    "        labels[idx]=1   # 바위 : 1\n",
    "        idx=idx+1  \n",
    "    \n",
    "    for file in glob.iglob(img_path+'/paper/*.jpg'):\n",
    "        img = np.array(Image.open(file),dtype=np.int32)\n",
    "        imgs[idx,:,:,:]=img    # 데이터 영역에 이미지 행렬을 복사\n",
    "        labels[idx]=2   # 보 : 2\n",
    "        idx=idx+1\n",
    "        \n",
    "    print(\"학습데이터(x_train)의 이미지 개수는\", idx,\"입니다.\")\n",
    "    return imgs, labels\n",
    "\n",
    "image_dir_path = os.getenv(\"HOME\") + \"/aiffel/rock_scissor_paper\"\n",
    "(x_train, y_train)=load_data(image_dir_path)\n",
    "x_train_norm = x_train/255.0   # 입력은 0~1 사이의 값으로 정규화\n",
    "\n",
    "print(\"x_train shape: {}\".format(x_train.shape))\n",
    "print(\"y_train shape: {}\".format(y_train.shape))"
   ]
  },
  {
   "cell_type": "markdown",
   "id": "f5c2f3d7",
   "metadata": {},
   "source": [
    "한번 이미지를 불러 볼까요?"
   ]
  },
  {
   "cell_type": "code",
   "execution_count": 8,
   "id": "4840620f",
   "metadata": {},
   "outputs": [
    {
     "name": "stdout",
     "output_type": "stream",
     "text": [
      "라벨:  0\n"
     ]
    },
    {
     "data": {
      "image/png": "[encoded data removed]",
      "text/plain": [
       "<Figure size 432x288 with 1 Axes>"
      ]
     },
     "metadata": {
      "needs_background": "light"
     },
     "output_type": "display_data"
    }
   ],
   "source": [
    "plt.imshow(x_train[0])\n",
    "print('라벨: ', y_train[0])"
   ]
  },
  {
   "cell_type": "markdown",
   "id": "99232836",
   "metadata": {},
   "source": [
    "## 딥러닝 네트워크 설계하기\n",
    "자 이제 데이터의 준비가 끝났습니다. 이제 여러분들이 가위바위보를 인식하는 딥러닝 네트워크를 설계해 볼까요?"
   ]
  },
  {
   "cell_type": "code",
   "execution_count": 9,
   "id": "d40159ca",
   "metadata": {},
   "outputs": [
    {
     "name": "stdout",
     "output_type": "stream",
     "text": [
      "Model: \"sequential\"\n",
      "_________________________________________________________________\n",
      "Layer (type)                 Output Shape              Param #   \n",
      "=================================================================\n",
      "conv2d (Conv2D)              (None, 26, 26, 16)        448       \n",
      "_________________________________________________________________\n",
      "max_pooling2d (MaxPooling2D) (None, 13, 13, 16)        0         \n",
      "_________________________________________________________________\n",
      "conv2d_1 (Conv2D)            (None, 11, 11, 32)        4640      \n",
      "_________________________________________________________________\n",
      "max_pooling2d_1 (MaxPooling2 (None, 5, 5, 32)          0         \n",
      "_________________________________________________________________\n",
      "flatten (Flatten)            (None, 800)               0         \n",
      "_________________________________________________________________\n",
      "dense (Dense)                (None, 32)                25632     \n",
      "_________________________________________________________________\n",
      "dense_1 (Dense)              (None, 3)                 99        \n",
      "=================================================================\n",
      "Total params: 30,819\n",
      "Trainable params: 30,819\n",
      "Non-trainable params: 0\n",
      "_________________________________________________________________\n"
     ]
    }
   ],
   "source": [
    "import tensorflow as tf\n",
    "from tensorflow import keras\n",
    "import numpy as np\n",
    "\n",
    "# model을 직접 만들어 보세요.\n",
    "# Hint! model의 입력/출력부에 특히 유의해 주세요. 가위바위보 데이터셋은 MNIST 데이터셋과 어떤 점이 달라졌나요?\n",
    "model=keras.models.Sequential()\n",
    "model.add(keras.layers.Conv2D(16, (3,3), activation='relu', input_shape=(28,28,3))) \n",
    "# 16 - 입력한 이미지의 특징을 몇 가지 살펴볼 것인가\n",
    "# input_shape - 입력이미지의 형태 \n",
    "model.add(keras.layers.MaxPool2D(2,2))\n",
    "model.add(keras.layers.Conv2D(32, (3,3), activation='relu'))\n",
    "# 32 - 입력한 이미지의 특징을 몇 가지 살펴볼 것인가\n",
    "model.add(keras.layers.MaxPooling2D((2,2)))\n",
    "model.add(keras.layers.Flatten())\n",
    "model.add(keras.layers.Dense(32, activation='relu'))\n",
    "# 32 - 분류기 알고리즘을 얼마나 복잡하게 할 것인가?(복잡한 문제일수록 이 수를 늘려보자)\n",
    "model.add(keras.layers.Dense(3, activation='softmax'))\n",
    "# 10 - 최종 분류기의 class 수\n",
    "\n",
    "model.summary()"
   ]
  },
  {
   "cell_type": "markdown",
   "id": "70b27025",
   "metadata": {},
   "source": [
    "## 딥러닝 네트워크 학습시키기\n",
    "잘 설계가 되었다면, 이제 학습을 시켜봅시다. 아마도 여러분들의 데이터는 거의 비슷비슷할 것이기 때문에 accuracy가 꽤 높게 나올 것입니다."
   ]
  },
  {
   "cell_type": "code",
   "execution_count": 10,
   "id": "833aa40b",
   "metadata": {},
   "outputs": [
    {
     "name": "stdout",
     "output_type": "stream",
     "text": [
      "Epoch 1/10\n",
      "13/13 [==============================] - 6s 62ms/step - loss: 1.1064 - accuracy: 0.3435\n",
      "Epoch 2/10\n",
      "13/13 [==============================] - 0s 8ms/step - loss: 1.0977 - accuracy: 0.3690\n",
      "Epoch 3/10\n",
      "13/13 [==============================] - 0s 8ms/step - loss: 1.0958 - accuracy: 0.4198\n",
      "Epoch 4/10\n",
      "13/13 [==============================] - 0s 8ms/step - loss: 1.0945 - accuracy: 0.4249\n",
      "Epoch 5/10\n",
      "13/13 [==============================] - 0s 8ms/step - loss: 1.0928 - accuracy: 0.4148\n",
      "Epoch 6/10\n",
      "13/13 [==============================] - 0s 8ms/step - loss: 1.0944 - accuracy: 0.3690\n",
      "Epoch 7/10\n",
      "13/13 [==============================] - 0s 8ms/step - loss: 1.0880 - accuracy: 0.5852\n",
      "Epoch 8/10\n",
      "13/13 [==============================] - 0s 8ms/step - loss: 1.0856 - accuracy: 0.5623\n",
      "Epoch 9/10\n",
      "13/13 [==============================] - 0s 8ms/step - loss: 1.0813 - accuracy: 0.4504\n",
      "Epoch 10/10\n",
      "13/13 [==============================] - 0s 9ms/step - loss: 1.0767 - accuracy: 0.4478\n"
     ]
    },
    {
     "data": {
      "text/plain": [
       "<keras.callbacks.History at 0x7fd1bc292970>"
      ]
     },
     "execution_count": 10,
     "metadata": {},
     "output_type": "execute_result"
    }
   ],
   "source": [
    "model.compile(optimizer='adam',\n",
    "             loss='sparse_categorical_crossentropy',\n",
    "             metrics=['accuracy'])\n",
    "\n",
    "model.fit(x_train_norm, y_train, epochs=10)"
   ]
  },
  {
   "cell_type": "markdown",
   "id": "fb72534e",
   "metadata": {},
   "source": [
    "## 얼마나 잘 만들었는지 확인하기(테스트)\n",
    "여러분들은 300장의 가위바위보 이미지를 만들어 모두 학습에 사용했습니다. 그러므로 테스트 데이터가 없죠. 옆 친구의 이미지 데이터 300장을 받아오세요. 그리고 그것을 테스트 데이터로 하여 test accuracy를 측정해보세요. (만약 웹캠이 없는 경우 섹션을 진행하신 경우, 이미 test 데이터셋이 준비돼있으니 친구에게 조르지 않으셔도 됩니다)\n",
    "- mkdir -p ~/aiffel/rock_scissor_paper/test"
   ]
  },
  {
   "cell_type": "markdown",
   "id": "416c51d8",
   "metadata": {},
   "source": [
    "우선 테스트용 데이터인 x_test, y_test를 만들어 봅시다."
   ]
  },
  {
   "cell_type": "code",
   "execution_count": 11,
   "id": "d602b71d",
   "metadata": {},
   "outputs": [
    {
     "name": "stdout",
     "output_type": "stream",
     "text": [
      "100  images to be resized.\n",
      "100  images resized.\n"
     ]
    }
   ],
   "source": [
    "# x_test, y_test를 만드는 방법은 x_train, y_train을 만드는 방법과 아주 유사합니다.\n",
    "image_dir_path = os.getenv(\"HOME\") + \"/aiffel/rock_scissor_paper/test/scissor\"\n",
    "resize_images(image_dir_path)"
   ]
  },
  {
   "cell_type": "code",
   "execution_count": 12,
   "id": "080e43d0",
   "metadata": {},
   "outputs": [
    {
     "name": "stdout",
     "output_type": "stream",
     "text": [
      "100  images to be resized.\n",
      "100  images resized.\n"
     ]
    }
   ],
   "source": [
    "image_dir_path = os.getenv(\"HOME\") + \"/aiffel/rock_scissor_paper/test/rock\"\n",
    "resize_images(image_dir_path)"
   ]
  },
  {
   "cell_type": "code",
   "execution_count": 13,
   "id": "88991744",
   "metadata": {},
   "outputs": [
    {
     "name": "stdout",
     "output_type": "stream",
     "text": [
      "100  images to be resized.\n",
      "100  images resized.\n"
     ]
    }
   ],
   "source": [
    "image_dir_path = os.getenv(\"HOME\") + \"/aiffel/rock_scissor_paper/test/paper\"\n",
    "resize_images(image_dir_path)"
   ]
  },
  {
   "cell_type": "code",
   "execution_count": 14,
   "id": "f2a084fd",
   "metadata": {},
   "outputs": [
    {
     "name": "stdout",
     "output_type": "stream",
     "text": [
      "테스트 데이터(x_test)의 이미지 개수는 300 입니다.\n",
      "x_test shape: (300, 28, 28, 3)\n",
      "y_test shape: (300,)\n"
     ]
    }
   ],
   "source": [
    "import numpy as np\n",
    "\n",
    "def load_data_test(img_path, number_of_data=300):  # 가위바위보 이미지 개수 총합에 주의하세요.\n",
    "    # 가위 : 0, 바위 : 1, 보 : 2\n",
    "    img_size=28\n",
    "    color=3\n",
    "    #이미지 데이터와 라벨(가위 : 0, 바위 : 1, 보 : 2) 데이터를 담을 행렬(matrix) 영역을 생성합니다.\n",
    "    imgs=np.zeros(number_of_data*img_size*img_size*color,dtype=np.int32).reshape(number_of_data,img_size,img_size,color)\n",
    "    labels=np.zeros(number_of_data,dtype=np.int32)\n",
    "\n",
    "    idx=0\n",
    "    for file in glob.iglob(img_path+'/scissor/*.jpg'):\n",
    "        img = np.array(Image.open(file),dtype=np.int32)\n",
    "        imgs[idx,:,:,:]=img    # 데이터 영역에 이미지 행렬을 복사\n",
    "        labels[idx]=0   # 가위 : 0\n",
    "        idx=idx+1\n",
    "\n",
    "    for file in glob.iglob(img_path+'/rock/*.jpg'):\n",
    "        img = np.array(Image.open(file),dtype=np.int32)\n",
    "        imgs[idx,:,:,:]=img    # 데이터 영역에 이미지 행렬을 복사\n",
    "        labels[idx]=1   # 바위 : 1\n",
    "        idx=idx+1  \n",
    "    \n",
    "    for file in glob.iglob(img_path+'/paper/*.jpg'):\n",
    "        img = np.array(Image.open(file),dtype=np.int32)\n",
    "        imgs[idx,:,:,:]=img    # 데이터 영역에 이미지 행렬을 복사\n",
    "        labels[idx]=2   # 보 : 2\n",
    "        idx=idx+1\n",
    "        \n",
    "    print(\"테스트 데이터(x_test)의 이미지 개수는\", idx,\"입니다.\")\n",
    "    return imgs, labels\n",
    "\n",
    "image_dir_path = os.getenv(\"HOME\") + \"/aiffel/rock_scissor_paper/test\"\n",
    "(x_test, y_test)=load_data_test(image_dir_path)\n",
    "x_test_norm = x_test/255.0   # 입력은 0~1 사이의 값으로 정규화\n",
    "\n",
    "print(\"x_test shape: {}\".format(x_test.shape))\n",
    "print(\"y_test shape: {}\".format(y_test.shape))"
   ]
  },
  {
   "cell_type": "code",
   "execution_count": 15,
   "id": "cf5024bb",
   "metadata": {},
   "outputs": [
    {
     "name": "stdout",
     "output_type": "stream",
     "text": [
      "10/10 - 0s - loss: 48.4367 - accuracy: 0.3333\n",
      "test_loss: 48.436668395996094\n",
      "test_accuracy: 0.3333333432674408\n"
     ]
    }
   ],
   "source": [
    "test_loss, test_accuracy = model.evaluate(x_test, y_test, verbose=2)\n",
    "print(f\"test_loss: {test_loss}\")\n",
    "print(f\"test_accuracy: {test_accuracy}\")"
   ]
  },
  {
   "cell_type": "markdown",
   "id": "6526ff75",
   "metadata": {},
   "source": [
    "## 더 좋은 네트워크 만들어 보기"
   ]
  },
  {
   "cell_type": "code",
   "execution_count": 16,
   "id": "f9ccb292",
   "metadata": {},
   "outputs": [
    {
     "name": "stdout",
     "output_type": "stream",
     "text": [
      "Model: \"sequential_1\"\n",
      "_________________________________________________________________\n",
      "Layer (type)                 Output Shape              Param #   \n",
      "=================================================================\n",
      "conv2d_2 (Conv2D)            (None, 26, 26, 256)       7168      \n",
      "_________________________________________________________________\n",
      "max_pooling2d_2 (MaxPooling2 (None, 13, 13, 256)       0         \n",
      "_________________________________________________________________\n",
      "conv2d_3 (Conv2D)            (None, 11, 11, 256)       590080    \n",
      "_________________________________________________________________\n",
      "max_pooling2d_3 (MaxPooling2 (None, 5, 5, 256)         0         \n",
      "_________________________________________________________________\n",
      "conv2d_4 (Conv2D)            (None, 3, 3, 256)         590080    \n",
      "_________________________________________________________________\n",
      "max_pooling2d_4 (MaxPooling2 (None, 1, 1, 256)         0         \n",
      "_________________________________________________________________\n",
      "flatten_1 (Flatten)          (None, 256)               0         \n",
      "_________________________________________________________________\n",
      "dense_2 (Dense)              (None, 128)               32896     \n",
      "_________________________________________________________________\n",
      "dense_3 (Dense)              (None, 3)                 387       \n",
      "=================================================================\n",
      "Total params: 1,220,611\n",
      "Trainable params: 1,220,611\n",
      "Non-trainable params: 0\n",
      "_________________________________________________________________\n",
      "Epoch 1/20\n",
      "7/7 [==============================] - 3s 228ms/step - loss: 1.1289 - accuracy: 0.3410\n",
      "Epoch 2/20\n",
      "7/7 [==============================] - 0s 22ms/step - loss: 1.1027 - accuracy: 0.3333\n",
      "Epoch 3/20\n",
      "7/7 [==============================] - 0s 22ms/step - loss: 1.0994 - accuracy: 0.2799\n",
      "Epoch 4/20\n",
      "7/7 [==============================] - 0s 21ms/step - loss: 1.0988 - accuracy: 0.3232\n",
      "Epoch 5/20\n",
      "7/7 [==============================] - 0s 22ms/step - loss: 1.0992 - accuracy: 0.3155\n",
      "Epoch 6/20\n",
      "7/7 [==============================] - 0s 21ms/step - loss: 1.0988 - accuracy: 0.3333\n",
      "Epoch 7/20\n",
      "7/7 [==============================] - 0s 23ms/step - loss: 1.0986 - accuracy: 0.3333\n",
      "Epoch 8/20\n",
      "7/7 [==============================] - 0s 22ms/step - loss: 1.0989 - accuracy: 0.2850\n",
      "Epoch 9/20\n",
      "7/7 [==============================] - 0s 21ms/step - loss: 1.0986 - accuracy: 0.3181\n",
      "Epoch 10/20\n",
      "7/7 [==============================] - 0s 22ms/step - loss: 1.0987 - accuracy: 0.3333\n",
      "Epoch 11/20\n",
      "7/7 [==============================] - 0s 21ms/step - loss: 1.0983 - accuracy: 0.3359\n",
      "Epoch 12/20\n",
      "7/7 [==============================] - 0s 22ms/step - loss: 1.0984 - accuracy: 0.3435\n",
      "Epoch 13/20\n",
      "7/7 [==============================] - 0s 23ms/step - loss: 1.0980 - accuracy: 0.3333\n",
      "Epoch 14/20\n",
      "7/7 [==============================] - 0s 23ms/step - loss: 1.0995 - accuracy: 0.3333\n",
      "Epoch 15/20\n",
      "7/7 [==============================] - 0s 21ms/step - loss: 1.0982 - accuracy: 0.3613\n",
      "Epoch 16/20\n",
      "7/7 [==============================] - 0s 22ms/step - loss: 1.0982 - accuracy: 0.3333\n",
      "Epoch 17/20\n",
      "7/7 [==============================] - 0s 22ms/step - loss: 1.0967 - accuracy: 0.3537\n",
      "Epoch 18/20\n",
      "7/7 [==============================] - 0s 21ms/step - loss: 1.0964 - accuracy: 0.3588\n",
      "Epoch 19/20\n",
      "7/7 [==============================] - 0s 22ms/step - loss: 1.0944 - accuracy: 0.4046\n",
      "Epoch 20/20\n",
      "7/7 [==============================] - 0s 22ms/step - loss: 1.0943 - accuracy: 0.3384\n",
      "5/5 - 1s - loss: 1.0854 - accuracy: 0.3667\n",
      "test_loss: 1.0854296684265137 \n",
      "test_accuracy: 0.36666667461395264\n"
     ]
    }
   ],
   "source": [
    "# 바꿔 볼 수 있는 하이퍼파라미터들\n",
    "n_channel_1=256\n",
    "n_channel_2=256\n",
    "n_channel_3=256\n",
    "n_dense=128\n",
    "n_train_epoch=20\n",
    "\n",
    "model=keras.models.Sequential()\n",
    "model.add(keras.layers.Conv2D(n_channel_1, (3,3), activation='relu', input_shape=(28,28,3)))\n",
    "model.add(keras.layers.MaxPooling2D(2,2))\n",
    "model.add(keras.layers.Conv2D(n_channel_2, (3,3), activation='relu'))\n",
    "model.add(keras.layers.MaxPooling2D((2,2)))\n",
    "model.add(keras.layers.Conv2D(n_channel_3, (3,3), activation='relu'))\n",
    "model.add(keras.layers.MaxPooling2D((2,2)))\n",
    "model.add(keras.layers.Flatten())\n",
    "model.add(keras.layers.Dense(n_dense, activation='relu'))\n",
    "model.add(keras.layers.Dense(3, activation='softmax'))\n",
    "\n",
    "model.summary()\n",
    "model.compile(optimizer='adam',\n",
    "             loss='sparse_categorical_crossentropy',\n",
    "             metrics=['accuracy'])\n",
    "\n",
    "# 모델 훈련\n",
    "model.fit(x_train_norm, y_train, batch_size = 64, epochs=n_train_epoch)\n",
    "\n",
    "# 모델 시험\n",
    "test_loss, test_accuracy = model.evaluate(x_test_norm, y_test, batch_size = 64,verbose=2)\n",
    "print(f\"test_loss: {test_loss} \")\n",
    "print(f\"test_accuracy: {test_accuracy}\")"
   ]
  },
  {
   "cell_type": "markdown",
   "id": "c895108b",
   "metadata": {},
   "source": [
    "## 시각화\n",
    "다양한 파라미터 별로 결과를 정리하고 이를 시각화해보았다.\n",
    "(loss, accuracy, validation_loss, validation_accuracy)"
   ]
  },
  {
   "cell_type": "code",
   "execution_count": 17,
   "id": "edbb9117",
   "metadata": {},
   "outputs": [
    {
     "name": "stdout",
     "output_type": "stream",
     "text": [
      "Epoch 1/20\n",
      "7/7 [==============================] - 0s 38ms/step - loss: 1.0875 - accuracy: 0.4351 - val_loss: 1.0844 - val_accuracy: 0.3333\n",
      "Epoch 2/20\n",
      "7/7 [==============================] - 0s 32ms/step - loss: 1.0911 - accuracy: 0.3588 - val_loss: 1.0870 - val_accuracy: 0.4067\n",
      "Epoch 3/20\n",
      "7/7 [==============================] - 0s 34ms/step - loss: 1.0840 - accuracy: 0.4402 - val_loss: 1.0816 - val_accuracy: 0.4800\n",
      "Epoch 4/20\n",
      "7/7 [==============================] - 0s 33ms/step - loss: 1.0775 - accuracy: 0.4020 - val_loss: 1.0715 - val_accuracy: 0.4267\n",
      "Epoch 5/20\n",
      "7/7 [==============================] - 0s 33ms/step - loss: 1.0663 - accuracy: 0.5344 - val_loss: 1.0693 - val_accuracy: 0.3367\n",
      "Epoch 6/20\n",
      "7/7 [==============================] - 0s 33ms/step - loss: 1.0390 - accuracy: 0.5089 - val_loss: 1.0475 - val_accuracy: 0.4567\n",
      "Epoch 7/20\n",
      "7/7 [==============================] - 0s 32ms/step - loss: 1.0243 - accuracy: 0.4682 - val_loss: 1.0654 - val_accuracy: 0.3400\n",
      "Epoch 8/20\n",
      "7/7 [==============================] - 0s 32ms/step - loss: 0.9996 - accuracy: 0.5318 - val_loss: 1.0304 - val_accuracy: 0.4567\n",
      "Epoch 9/20\n",
      "7/7 [==============================] - 0s 33ms/step - loss: 0.9850 - accuracy: 0.5064 - val_loss: 1.0125 - val_accuracy: 0.4867\n",
      "Epoch 10/20\n",
      "7/7 [==============================] - 0s 32ms/step - loss: 0.9555 - accuracy: 0.5115 - val_loss: 1.1294 - val_accuracy: 0.4433\n",
      "Epoch 11/20\n",
      "7/7 [==============================] - 0s 34ms/step - loss: 0.9148 - accuracy: 0.5700 - val_loss: 1.2784 - val_accuracy: 0.3967\n",
      "Epoch 12/20\n",
      "7/7 [==============================] - 0s 33ms/step - loss: 0.9457 - accuracy: 0.5623 - val_loss: 1.0420 - val_accuracy: 0.4800\n",
      "Epoch 13/20\n",
      "7/7 [==============================] - 0s 35ms/step - loss: 0.9087 - accuracy: 0.6234 - val_loss: 1.0539 - val_accuracy: 0.4900\n",
      "Epoch 14/20\n",
      "7/7 [==============================] - 0s 36ms/step - loss: 0.8753 - accuracy: 0.6107 - val_loss: 1.0364 - val_accuracy: 0.4700\n",
      "Epoch 15/20\n",
      "7/7 [==============================] - 0s 32ms/step - loss: 0.8640 - accuracy: 0.5623 - val_loss: 1.3568 - val_accuracy: 0.4100\n",
      "Epoch 16/20\n",
      "7/7 [==============================] - 0s 35ms/step - loss: 0.8586 - accuracy: 0.6056 - val_loss: 1.0234 - val_accuracy: 0.4800\n",
      "Epoch 17/20\n",
      "7/7 [==============================] - 0s 32ms/step - loss: 0.8255 - accuracy: 0.6361 - val_loss: 1.1176 - val_accuracy: 0.4900\n",
      "Epoch 18/20\n",
      "7/7 [==============================] - 0s 34ms/step - loss: 0.8197 - accuracy: 0.5903 - val_loss: 1.0728 - val_accuracy: 0.5033\n",
      "Epoch 19/20\n",
      "7/7 [==============================] - 0s 32ms/step - loss: 0.7819 - accuracy: 0.6743 - val_loss: 1.0614 - val_accuracy: 0.5033\n",
      "Epoch 20/20\n",
      "7/7 [==============================] - 0s 32ms/step - loss: 0.7714 - accuracy: 0.6285 - val_loss: 1.0970 - val_accuracy: 0.5067\n",
      "5/5 - 0s - loss: 1.0970 - accuracy: 0.5067\n"
     ]
    },
    {
     "data": {
      "image/png": "[encoded data removed]",
      "text/plain": [
       "<Figure size 432x288 with 2 Axes>"
      ]
     },
     "metadata": {
      "needs_background": "light"
     },
     "output_type": "display_data"
    }
   ],
   "source": [
    "history = model.fit(x_train_norm, y_train, batch_size = 64, epochs=n_train_epoch, validation_data = (x_test_norm, y_test))\n",
    "\n",
    "plt.subplot(211)\n",
    "plt.plot(history.history['accuracy'], label = 'accuracy')\n",
    "plt.plot(history.history['val_accuracy'], label = 'val_accuracy')\n",
    "plt.xlabel('epoch')\n",
    "plt.ylabel('accuracy')\n",
    "plt.legend(loc = 'lower right')\n",
    "plt.subplot(212)\n",
    "plt.plot(history.history['loss'], label = 'loss')\n",
    "plt.plot(history.history['val_loss'], label = 'val_loss')\n",
    "plt.xlabel('epoch')\n",
    "plt.ylabel('loss')\n",
    "plt.legend(loc = 'lower right')\n",
    "test_loss, test_accuracy = model.evaluate(x_test_norm, y_test, batch_size = 64,verbose=2)"
   ]
  },
  {
   "cell_type": "markdown",
   "id": "24c71f11",
   "metadata": {},
   "source": [
    "## 어떤 데이터를 잘못 추론했는지 눈으로 확인해보기"
   ]
  },
  {
   "cell_type": "markdown",
   "id": "63c1a161",
   "metadata": {},
   "source": [
    "### n번째 데이터를 추론한 결과 확인"
   ]
  },
  {
   "cell_type": "code",
   "execution_count": 18,
   "id": "7e1e23d2",
   "metadata": {},
   "outputs": [
    {
     "name": "stdout",
     "output_type": "stream",
     "text": [
      "model.predict() 결과 :  [0.26745778 0.3994993  0.33304298]\n",
      "model이 추론한 가장 가능성이 높은 결과 :  1\n",
      "실제 데이터의 라벨 :  0\n"
     ]
    }
   ],
   "source": [
    "predicted_result = model.predict(x_test_norm)  # model이 추론한 확률값. \n",
    "predicted_labels = np.argmax(predicted_result, axis=1)\n",
    "\n",
    "idx=0  # n번째 x_test를 살펴보자. \n",
    "print('model.predict() 결과 : ', predicted_result[idx])\n",
    "print('model이 추론한 가장 가능성이 높은 결과 : ', predicted_labels[idx])\n",
    "print('실제 데이터의 라벨 : ', y_test[idx])"
   ]
  },
  {
   "cell_type": "code",
   "execution_count": 19,
   "id": "60446422",
   "metadata": {},
   "outputs": [
    {
     "data": {
      "image/png": "[encoded data removed]",
      "text/plain": [
       "<Figure size 432x288 with 1 Axes>"
      ]
     },
     "metadata": {
      "needs_background": "light"
     },
     "output_type": "display_data"
    }
   ],
   "source": [
    "# n번째 데이터\n",
    "plt.imshow(x_test[idx],cmap=plt.cm.binary)\n",
    "plt.show()"
   ]
  },
  {
   "cell_type": "markdown",
   "id": "771447da",
   "metadata": {},
   "source": [
    "### 잘못 추론한 데이터를 모아서 확인하기"
   ]
  },
  {
   "cell_type": "code",
   "execution_count": 20,
   "id": "6711ebfb",
   "metadata": {},
   "outputs": [
    {
     "name": "stdout",
     "output_type": "stream",
     "text": [
      "예측확률분포: [0.44395092 0.1569829  0.3990662 ]\n",
      "라벨: 2, 예측결과: 0\n"
     ]
    },
    {
     "data": {
      "image/png": "[encoded data removed]",
      "text/plain": [
       "<Figure size 432x288 with 1 Axes>"
      ]
     },
     "metadata": {
      "needs_background": "light"
     },
     "output_type": "display_data"
    },
    {
     "name": "stdout",
     "output_type": "stream",
     "text": [
      "예측확률분포: [0.16398706 0.48168772 0.35432526]\n",
      "라벨: 0, 예측결과: 1\n"
     ]
    },
    {
     "data": {
      "image/png": "[encoded data removed]",
      "text/plain": [
       "<Figure size 432x288 with 1 Axes>"
      ]
     },
     "metadata": {
      "needs_background": "light"
     },
     "output_type": "display_data"
    },
    {
     "name": "stdout",
     "output_type": "stream",
     "text": [
      "예측확률분포: [0.29104403 0.390264   0.31869197]\n",
      "라벨: 0, 예측결과: 1\n"
     ]
    },
    {
     "data": {
      "image/png": "[encoded data removed]",
      "text/plain": [
       "<Figure size 432x288 with 1 Axes>"
      ]
     },
     "metadata": {
      "needs_background": "light"
     },
     "output_type": "display_data"
    },
    {
     "name": "stdout",
     "output_type": "stream",
     "text": [
      "예측확률분포: [0.4058219  0.05349216 0.54068595]\n",
      "라벨: 1, 예측결과: 2\n"
     ]
    },
    {
     "data": {
      "image/png": "[encoded data removed]",
      "text/plain": [
       "<Figure size 432x288 with 1 Axes>"
      ]
     },
     "metadata": {
      "needs_background": "light"
     },
     "output_type": "display_data"
    },
    {
     "name": "stdout",
     "output_type": "stream",
     "text": [
      "예측확률분포: [0.18079546 0.5802176  0.23898694]\n",
      "라벨: 0, 예측결과: 1\n"
     ]
    },
    {
     "data": {
      "image/png": "[encoded data removed]",
      "text/plain": [
       "<Figure size 432x288 with 1 Axes>"
      ]
     },
     "metadata": {
      "needs_background": "light"
     },
     "output_type": "display_data"
    }
   ],
   "source": [
    "import random\n",
    "wrong_predict_list=[]\n",
    "for i, _ in enumerate(predicted_labels):\n",
    "    # i번째 test_labels과 y_test이 다른 경우만 모아 봅시다. \n",
    "    if predicted_labels[i] != y_test[i]:\n",
    "        wrong_predict_list.append(i)\n",
    "\n",
    "# wrong_predict_list 에서 랜덤하게 5개만 뽑아봅시다.\n",
    "samples = random.choices(population=wrong_predict_list, k=5)\n",
    "\n",
    "for n in samples:\n",
    "    print(\"예측확률분포: \" + str(predicted_result[n]))\n",
    "    print(\"라벨: \" + str(y_test[n]) + \", 예측결과: \" + str(predicted_labels[n]))\n",
    "    plt.imshow(x_test[n], cmap=plt.cm.binary)\n",
    "    plt.show()"
   ]
  },
  {
   "attachments": {
    "image.png": {
     "image/png": "[encoded data removed]"
    }
   },
   "cell_type": "markdown",
   "id": "08896778",
   "metadata": {},
   "source": [
    "## 프로젝트 결과 및 회고\n",
    "- 이번 프로젝트는 이미지를 다루는 프로젝트로 가위, 바위, 보의 형상을 가진 사람의 손을 분석하여 가위(0), 바위(1), 보(2)로 분류하는 목적을 가지고 있습니다. 이를 위해서 우선 데이테셋이 필요한데 저는 기본적으로 주어진 데이터셋을 활용하고 추가적으로 팀원의 데이터셋을 추가하여 오버피팅 현상을 극복하고자 시도하였습니다. \n",
    "    - 주어진 가위(100), 바위(100), 보(100) 데이터셋 + 새로 만든 가위(31), 바위(31), 보(31) 데이터셋)\n",
    "    \n",
    "- 오버피팅을 극복하기 위해서 저는 데이터셋 추가와 정규화를 시도하였으며 결과적으로 데이터 셋을 추가하기 전보다 오버피팅 현상이 줄어든 것을 시각화를 통해 확인할 수 있었습니다.\n",
    "\n",
    "- 또한 모델읠 성능(정확도) 개선을 위해서 저는 두 가지 방법을 시도하였습니다. 우선 keras Sequential API의 하이퍼 파라미터 값을 조정해보며 정확도의 변화를 살펴보았습니다. 다음으로는 레이어 층을 2개에서 3개로 늘려보면서 정확도의 변화를 살펴보았습니다. 실행때마다 정확도 수치가 바뀌는 것을 고려하더라도 층을 늘리고 하이퍼 파라미터들을 변경하였을 때 평균적으로 더 높은 정확도를 보이는 것을 확인하였습니다.\n",
    "    - (레이어가 2층일 때에는 주로 30~40 사이의 정확도를 보이다가 3층으로 늘린 후에는 주로 50을 넘는 정확도를 보였습니다.)\n",
    "    \n",
    "- 이 프로젝트를 진행한 후에 다른 이론적인 노드와 Deep ML 시간 학습을 통해 처음 제가 프로젝트 진행할 때 마구잡이로 바꿔본 값들이 잘못된 것을 알게 되었고 모델의 성능을 개선하기 위해 레이어 층을 늘리고 데이터셋을 추가하여 오버피팅을 극복하는 등 제가 만든 모델을 좀 더 개선할 수 있는 방법을 알게 되었습니다.\n",
    "\n",
    "- 다음은 제가 진행하면서 얻은 정확도 수치 중 60퍼센트를 넘는 결과 중 하나 입니다.\n",
    "![image.png](attachment:image.png)"
   ]
  },
  {
   "cell_type": "code",
   "execution_count": null,
   "id": "e1ac2d29",
   "metadata": {},
   "outputs": [],
   "source": []
  }
 ],
 "metadata": {
  "kernelspec": {
   "display_name": "Python 3 (ipykernel)",
   "language": "python",
   "name": "python3"
  },
  "language_info": {
   "codemirror_mode": {
    "name": "ipython",
    "version": 3
   },
   "file_extension": ".py",
   "mimetype": "text/x-python",
   "name": "python",
   "nbconvert_exporter": "python",
   "pygments_lexer": "ipython3",
   "version": "3.9.7"
  }
 },
 "nbformat": 4,
 "nbformat_minor": 5
}
