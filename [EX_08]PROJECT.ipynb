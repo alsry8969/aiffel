{
 "cells": [
  {
   "cell_type": "markdown",
   "id": "c66873e1",
   "metadata": {},
   "source": [
    "# 8-11. 프로젝트 : 네이버 영화리뷰 감성분석 도전하기\n",
    "이전 스텝까지는 영문 텍스트의 감정 분석을 진행해 보았습니다. 그렇다면 이번에는 한국어 텍스트의 감정 분석을 진행해 보면 어떨까요? 오늘 활용할 데이터셋은 네이버 영화의 댓글을 모아 구성된 Naver sentiment movie corpus입니다.\n",
    "\n",
    "데이터 다운로드 없이 Cloud shell에서 해당 파일의 심볼릭 링크를 연결해 주세요\n",
    "\n",
    "- ln -s ~/data/*.txt ~/aiffel/sentiment_classification/data"
   ]
  },
  {
   "cell_type": "markdown",
   "id": "97fd9924",
   "metadata": {},
   "source": [
    "## 라이브러리 버전을 확인해 봅니다\n",
    "사용할 라이브러리 버전을 둘러봅시다."
   ]
  },
  {
   "cell_type": "code",
   "execution_count": 1,
   "id": "40e2c386",
   "metadata": {},
   "outputs": [
    {
     "name": "stdout",
     "output_type": "stream",
     "text": [
      "1.3.3\n",
      "0.5.2\n",
      "4.1.2\n"
     ]
    }
   ],
   "source": [
    "import pandas\n",
    "import konlpy\n",
    "import gensim\n",
    "\n",
    "print(pandas.__version__)\n",
    "print(konlpy.__version__)\n",
    "print(gensim.__version__)"
   ]
  },
  {
   "cell_type": "markdown",
   "id": "e58a1446",
   "metadata": {},
   "source": [
    "## 1) 데이터 준비와 확인\n"
   ]
  },
  {
   "cell_type": "code",
   "execution_count": 2,
   "id": "7902b2a6",
   "metadata": {},
   "outputs": [],
   "source": [
    "import pandas as pd\n",
    "\n",
    "# 데이터를 읽어오기(train & test)\n",
    "train_data = pd.read_table('~/aiffel/sentiment_classification/data/ratings_train.txt')\n",
    "test_data = pd.read_table('~/aiffel/sentiment_classification/data/ratings_test.txt')"
   ]
  },
  {
   "cell_type": "markdown",
   "id": "7b83e26f",
   "metadata": {},
   "source": [
    "## 2) 데이터로더 구성\n",
    "실습 때 다루었던 IMDB 데이터셋은 텍스트를 가공하여 imdb.data_loader() 메서드를 호출하면 숫자 인덱스로 변환된 텍스트와 word_to_index 딕셔너리까지 친절하게 제공합니다. 그러나 이번에 다루게 될 nsmc 데이터셋은 전혀 가공되지 않은 텍스트 파일로 이루어져 있습니다. 이것을 읽어서 imdb.data_loader()와 동일하게 동작하는 자신만의 data_loader를 만들어 보는 것으로 시작합니다. data_loader 안에서는 다음을 수행해야 합니다.\n",
    "- 데이터의 중복 제거\n",
    "- NaN 결측치 제거\n",
    "- 한국어 토크나이저로 토큰화\n",
    "- 불용어(Stopwords) 제거\n",
    "- 사전word_to_index 구성\n",
    "- 텍스트 스트링을 사전 인덱스 스트링으로 변환\n",
    "- X_train, y_train, X_test, y_test, word_to_index 리턴"
   ]
  },
  {
   "cell_type": "code",
   "execution_count": 3,
   "id": "ecd1da43",
   "metadata": {},
   "outputs": [],
   "source": [
    "from konlpy.tag import Mecab\n",
    "import numpy as np\n",
    "import tensorflow as tf\n",
    "import os\n",
    "\n",
    "from collections import Counter\n",
    "\n",
    "tokenizer = Mecab()\n",
    "# 불용어(Stopwords) 리스트\n",
    "stopwords = ['의','가','이','은','들','는','좀','잘','걍','과','도','를','으로','자','에','와','한','하다']\n",
    "\n",
    "def load_data(train_data, test_data, num_words=10000):\n",
    "    train_data.drop_duplicates(subset=['document'], inplace=True)\n",
    "    train_data = train_data.dropna(how = 'any') \n",
    "    test_data.drop_duplicates(subset=['document'], inplace=True)\n",
    "    test_data = test_data.dropna(how = 'any') \n",
    "    \n",
    "    X_train = []\n",
    "    for sentence in train_data['document']:\n",
    "        temp_X = tokenizer.morphs(sentence) # 토큰화\n",
    "        temp_X = [word for word in temp_X if not word in stopwords] # 불용어 제거\n",
    "        X_train.append(temp_X)\n",
    "\n",
    "    X_test = []\n",
    "    for sentence in test_data['document']:\n",
    "        temp_X = tokenizer.morphs(sentence) # 토큰화\n",
    "        temp_X = [word for word in temp_X if not word in stopwords] # 불용어 제거\n",
    "        X_test.append(temp_X)\n",
    "    \n",
    "    words = np.concatenate(X_train).tolist()\n",
    "    counter = Counter(words)\n",
    "    counter = counter.most_common(10000-4)\n",
    "    vocab = ['', '', '', ''] + [key for key, _ in counter]\n",
    "    word_to_index = {word:index for index, word in enumerate(vocab)}\n",
    "        \n",
    "    def wordlist_to_indexlist(wordlist):\n",
    "        return [word_to_index[word] if word in word_to_index else word_to_index[''] for word in wordlist]\n",
    "        \n",
    "    X_train = list(map(wordlist_to_indexlist, X_train))\n",
    "    X_test = list(map(wordlist_to_indexlist, X_test))\n",
    "        \n",
    "    return X_train, np.array(list(train_data['label'])), X_test, np.array(list(test_data['label'])), word_to_index\n",
    "    \n",
    "X_train, y_train, X_test, y_test, word_to_index = load_data(train_data, test_data)"
   ]
  },
  {
   "cell_type": "code",
   "execution_count": 4,
   "id": "9dc44a5f",
   "metadata": {},
   "outputs": [],
   "source": [
    "word_to_index[\"<PAD>\"] = 0\n",
    "word_to_index[\"<BOS>\"] = 1\n",
    "word_to_index[\"<UNK>\"] = 2\n",
    "\n",
    "index_to_word = {index:word for word, index in word_to_index.items()}"
   ]
  },
  {
   "cell_type": "code",
   "execution_count": 5,
   "id": "da7de1ec",
   "metadata": {},
   "outputs": [],
   "source": [
    "# 문장 1개를 활용할 딕셔너리와 함께 주면, 단어 인덱스 리스트 벡터로 변환해 주는 함수입니다. \n",
    "# 단, 모든 문장은 <BOS>로 시작하는 것으로 합니다. \n",
    "def get_encoded_sentence(sentence, word_to_index):\n",
    "    return [word_to_index['<BOS>']]+[word_to_index[word] if word in word_to_index else word_to_index['<UNK>'] for word in sentence.split()]\n",
    "\n",
    "# 여러 개의 문장 리스트를 한꺼번에 단어 인덱스 리스트 벡터로 encode해 주는 함수입니다. \n",
    "def get_encoded_sentences(sentences, word_to_index):\n",
    "    return [get_encoded_sentence(sentence, word_to_index) for sentence in sentences]\n",
    "\n",
    "# 숫자 벡터로 encode된 문장을 원래대로 decode하는 함수입니다. \n",
    "def get_decoded_sentence(encoded_sentence, index_to_word):\n",
    "    return ' '.join(index_to_word[index] if index in index_to_word else '<UNK>' for index in encoded_sentence[1:])  #[1:]를 통해 <BOS>를 제외\n",
    "\n",
    "# 여러 개의 숫자 벡터로 encode된 문장을 한꺼번에 원래대로 decode하는 함수입니다. \n",
    "def get_decoded_sentences(encoded_sentences, index_to_word):\n",
    "    return [get_decoded_sentence(encoded_sentence, index_to_word) for encoded_sentence in encoded_sentences]"
   ]
  },
  {
   "cell_type": "markdown",
   "id": "ba449d3d",
   "metadata": {},
   "source": [
    "## 3) 모델 구성을 위한 데이터 분석 및 가공\n",
    "- 데이터셋 내 문장 길이 분포\n",
    "- 적절한 최대 문장 길이 지정\n",
    "- keras.preprocessing.sequence.pad_sequences 을 활용한 패딩 추가"
   ]
  },
  {
   "cell_type": "markdown",
   "id": "01051dbb",
   "metadata": {},
   "source": [
    "### 데이터셋 내 문장 길이 분포 & 적절한 최대 문장 길이 지정"
   ]
  },
  {
   "cell_type": "code",
   "execution_count": 6,
   "id": "b3b89ba0",
   "metadata": {},
   "outputs": [
    {
     "name": "stdout",
     "output_type": "stream",
     "text": [
      "문장길이 평균 :  15.96940191154864\n",
      "문장길이 최대 :  116\n",
      "문장길이 표준편차 :  12.843571191092\n",
      "pad_sequences maxlen :  41\n",
      "전체 문장의 93.42988343341575%가 maxlen 설정값 이내에 포함됩니다. \n"
     ]
    }
   ],
   "source": [
    "total_data_text = list(X_train) + list(X_test)\n",
    "num_tokens = [len(tokens) for tokens in total_data_text]\n",
    "num_tokens = np.array(num_tokens)\n",
    "\n",
    "print('문장길이 평균 : ', np.mean(num_tokens))\n",
    "print('문장길이 최대 : ', np.max(num_tokens))\n",
    "print('문장길이 표준편차 : ', np.std(num_tokens))\n",
    "\n",
    "max_tokens = np.mean(num_tokens) + 2 * np.std(num_tokens)\n",
    "maxlen = int(max_tokens)\n",
    "print('pad_sequences maxlen : ', maxlen)\n",
    "print('전체 문장의 {}%가 maxlen 설정값 이내에 포함됩니다. '.format(np.sum(num_tokens < max_tokens) / len(num_tokens) * 100))"
   ]
  },
  {
   "cell_type": "code",
   "execution_count": 7,
   "id": "7cced452",
   "metadata": {},
   "outputs": [
    {
     "data": {
      "image/png": "[encoded data removed]",
      "text/plain": [
       "<Figure size 432x288 with 1 Axes>"
      ]
     },
     "metadata": {
      "needs_background": "light"
     },
     "output_type": "display_data"
    }
   ],
   "source": [
    "import matplotlib.pyplot as plt\n",
    "\n",
    "# 문장 길이 분포 확인\n",
    "plt.hist([review for review in num_tokens], bins=50)\n",
    "plt.xlabel('length of samples')\n",
    "plt.ylabel('number of samples')\n",
    "plt.show()"
   ]
  },
  {
   "cell_type": "markdown",
   "id": "faa44a43",
   "metadata": {},
   "source": [
    "### keras.preprocessing.sequence.pad_sequences 을 활용한 패딩 추가"
   ]
  },
  {
   "cell_type": "code",
   "execution_count": 8,
   "id": "3b682310",
   "metadata": {},
   "outputs": [
    {
     "name": "stdout",
     "output_type": "stream",
     "text": [
      "(146182, 41)\n"
     ]
    }
   ],
   "source": [
    "X_train = tf.keras.preprocessing.sequence.pad_sequences(X_train,\n",
    "                                                        value=word_to_index[\"<PAD>\"],\n",
    "                                                        padding='pre', # 혹은 'pre'\n",
    "                                                        maxlen=maxlen)\n",
    "\n",
    "X_test = tf.keras.preprocessing.sequence.pad_sequences(X_test,\n",
    "                                                       value=word_to_index[\"<PAD>\"],\n",
    "                                                       padding='pre', # 혹은 'pre'\n",
    "                                                       maxlen=maxlen)\n",
    "\n",
    "print(X_train.shape)"
   ]
  },
  {
   "cell_type": "markdown",
   "id": "36d36d9a",
   "metadata": {},
   "source": [
    "## 4) 모델 구성 및 validation set 구성\n",
    "모델은 3가지 이상 다양하게 구성하여 실험해 보세요."
   ]
  },
  {
   "cell_type": "markdown",
   "id": "17ecfe0f",
   "metadata": {},
   "source": [
    "### 1. LSTM"
   ]
  },
  {
   "cell_type": "code",
   "execution_count": 9,
   "id": "26694394",
   "metadata": {},
   "outputs": [
    {
     "name": "stdout",
     "output_type": "stream",
     "text": [
      "(116182, 41)\n",
      "(116182,)\n"
     ]
    }
   ],
   "source": [
    "# validation set 30000건 분리\n",
    "X_val = X_train[:30000]   \n",
    "y_val = y_train[:30000]\n",
    "\n",
    "# validation set을 제외한 나머지 15000건\n",
    "partial_X_train = X_train[30000:]  \n",
    "partial_y_train = y_train[30000:]\n",
    "\n",
    "print(partial_X_train.shape)\n",
    "print(partial_y_train.shape)"
   ]
  },
  {
   "cell_type": "code",
   "execution_count": 10,
   "id": "af9d3b30",
   "metadata": {},
   "outputs": [
    {
     "name": "stdout",
     "output_type": "stream",
     "text": [
      "Model: \"sequential\"\n",
      "_________________________________________________________________\n",
      "Layer (type)                 Output Shape              Param #   \n",
      "=================================================================\n",
      "embedding (Embedding)        (None, None, 100)         1000000   \n",
      "_________________________________________________________________\n",
      "lstm (LSTM)                  (None, 128)               117248    \n",
      "_________________________________________________________________\n",
      "dense (Dense)                (None, 1)                 129       \n",
      "=================================================================\n",
      "Total params: 1,117,377\n",
      "Trainable params: 1,117,377\n",
      "Non-trainable params: 0\n",
      "_________________________________________________________________\n"
     ]
    }
   ],
   "source": [
    "vocab_size = 10000\n",
    "word_vector_dim = 100\n",
    "embedding_dim = 100\n",
    "hidden_units = 128\n",
    "\n",
    "model = tf.keras.Sequential()\n",
    "model.add(tf.keras.layers.Embedding(vocab_size, embedding_dim))\n",
    "model.add(tf.keras.layers.LSTM(hidden_units))\n",
    "model.add(tf.keras.layers.Dense(1, activation='sigmoid'))\n",
    "\n",
    "model.summary()"
   ]
  },
  {
   "cell_type": "markdown",
   "id": "cb32568c",
   "metadata": {},
   "source": [
    "### 2. RNN"
   ]
  },
  {
   "cell_type": "code",
   "execution_count": 11,
   "id": "1cc931d4",
   "metadata": {},
   "outputs": [
    {
     "name": "stdout",
     "output_type": "stream",
     "text": [
      "Model: \"sequential_1\"\n",
      "_________________________________________________________________\n",
      "Layer (type)                 Output Shape              Param #   \n",
      "=================================================================\n",
      "embedding_1 (Embedding)      (None, None, 100)         1000000   \n",
      "_________________________________________________________________\n",
      "conv1d (Conv1D)              (None, None, 16)          11216     \n",
      "_________________________________________________________________\n",
      "max_pooling1d (MaxPooling1D) (None, None, 16)          0         \n",
      "_________________________________________________________________\n",
      "conv1d_1 (Conv1D)            (None, None, 16)          1808      \n",
      "_________________________________________________________________\n",
      "global_max_pooling1d (Global (None, 16)                0         \n",
      "_________________________________________________________________\n",
      "dense_1 (Dense)              (None, 8)                 136       \n",
      "_________________________________________________________________\n",
      "dense_2 (Dense)              (None, 1)                 9         \n",
      "=================================================================\n",
      "Total params: 1,013,169\n",
      "Trainable params: 1,013,169\n",
      "Non-trainable params: 0\n",
      "_________________________________________________________________\n"
     ]
    }
   ],
   "source": [
    "model_2 = tf.keras.Sequential()\n",
    "model_2.add(tf.keras.layers.Embedding(vocab_size, word_vector_dim, input_shape=(None,)))\n",
    "model_2.add(tf.keras.layers.Conv1D(16, 7, activation='relu'))\n",
    "model_2.add(tf.keras.layers.MaxPooling1D(5))\n",
    "model_2.add(tf.keras.layers.Conv1D(16, 7, activation='relu'))\n",
    "model_2.add(tf.keras.layers.GlobalMaxPooling1D())\n",
    "model_2.add(tf.keras.layers.Dense(8, activation='relu'))\n",
    "model_2.add(tf.keras.layers.Dense(1, activation='sigmoid'))\n",
    "\n",
    "model_2.summary()"
   ]
  },
  {
   "cell_type": "markdown",
   "id": "8945f971",
   "metadata": {},
   "source": [
    "### 3. CNN"
   ]
  },
  {
   "cell_type": "code",
   "execution_count": 12,
   "id": "5ecee31f",
   "metadata": {},
   "outputs": [
    {
     "name": "stdout",
     "output_type": "stream",
     "text": [
      "Model: \"sequential_2\"\n",
      "_________________________________________________________________\n",
      "Layer (type)                 Output Shape              Param #   \n",
      "=================================================================\n",
      "embedding_2 (Embedding)      (None, None, 100)         1000000   \n",
      "_________________________________________________________________\n",
      "conv1d_2 (Conv1D)            (None, None, 16)          11216     \n",
      "_________________________________________________________________\n",
      "max_pooling1d_1 (MaxPooling1 (None, None, 16)          0         \n",
      "_________________________________________________________________\n",
      "conv1d_3 (Conv1D)            (None, None, 16)          1808      \n",
      "_________________________________________________________________\n",
      "global_max_pooling1d_1 (Glob (None, 16)                0         \n",
      "_________________________________________________________________\n",
      "dense_3 (Dense)              (None, 8)                 136       \n",
      "_________________________________________________________________\n",
      "dense_4 (Dense)              (None, 1)                 9         \n",
      "=================================================================\n",
      "Total params: 1,013,169\n",
      "Trainable params: 1,013,169\n",
      "Non-trainable params: 0\n",
      "_________________________________________________________________\n"
     ]
    }
   ],
   "source": [
    "model_3 = tf.keras.Sequential()\n",
    "model_3.add(tf.keras.layers.Embedding(vocab_size, word_vector_dim, input_shape=(None,)))\n",
    "model_3.add(tf.keras.layers.Conv1D(16, 7, activation='relu'))\n",
    "model_3.add(tf.keras.layers.MaxPooling1D(5))\n",
    "model_3.add(tf.keras.layers.Conv1D(16, 7, activation='relu'))\n",
    "model_3.add(tf.keras.layers.GlobalMaxPooling1D())\n",
    "model_3.add(tf.keras.layers.Dense(8, activation='relu'))\n",
    "model_3.add(tf.keras.layers.Dense(1, activation='sigmoid'))  # 최종 출력은 긍정/부정을 나타내는 1dim 입니다.\n",
    "\n",
    "model_3.summary()"
   ]
  },
  {
   "cell_type": "markdown",
   "id": "c8d437c2",
   "metadata": {},
   "source": [
    "## 5) 모델 훈련 개시\n"
   ]
  },
  {
   "cell_type": "code",
   "execution_count": 13,
   "id": "06de8728",
   "metadata": {},
   "outputs": [
    {
     "name": "stdout",
     "output_type": "stream",
     "text": [
      "Epoch 1/10\n",
      "1816/1816 [==============================] - 35s 6ms/step - loss: 0.3810 - accuracy: 0.8301 - val_loss: 0.3309 - val_accuracy: 0.8530\n",
      "Epoch 2/10\n",
      "1816/1816 [==============================] - 11s 6ms/step - loss: 0.3140 - accuracy: 0.8666 - val_loss: 0.3120 - val_accuracy: 0.8646\n",
      "Epoch 3/10\n",
      "1816/1816 [==============================] - 11s 6ms/step - loss: 0.2890 - accuracy: 0.8787 - val_loss: 0.3051 - val_accuracy: 0.8683\n",
      "Epoch 4/10\n",
      "1816/1816 [==============================] - 11s 6ms/step - loss: 0.2725 - accuracy: 0.8873 - val_loss: 0.3071 - val_accuracy: 0.8677\n",
      "Epoch 5/10\n",
      "1816/1816 [==============================] - 11s 6ms/step - loss: 0.2587 - accuracy: 0.8936 - val_loss: 0.3013 - val_accuracy: 0.8729\n",
      "Epoch 6/10\n",
      "1816/1816 [==============================] - 11s 6ms/step - loss: 0.2462 - accuracy: 0.8998 - val_loss: 0.3095 - val_accuracy: 0.8686\n",
      "Epoch 7/10\n",
      "1816/1816 [==============================] - 11s 6ms/step - loss: 0.2345 - accuracy: 0.9060 - val_loss: 0.3015 - val_accuracy: 0.8743\n",
      "Epoch 8/10\n",
      "1816/1816 [==============================] - 11s 6ms/step - loss: 0.2226 - accuracy: 0.9116 - val_loss: 0.3180 - val_accuracy: 0.8710\n",
      "Epoch 9/10\n",
      "1816/1816 [==============================] - 11s 6ms/step - loss: 0.2102 - accuracy: 0.9174 - val_loss: 0.3179 - val_accuracy: 0.8697\n",
      "Epoch 10/10\n",
      "1816/1816 [==============================] - 11s 6ms/step - loss: 0.1967 - accuracy: 0.9236 - val_loss: 0.3398 - val_accuracy: 0.8694\n"
     ]
    }
   ],
   "source": [
    "model.compile(optimizer='RMSprop',\n",
    "              loss='binary_crossentropy',\n",
    "              metrics=['accuracy'])\n",
    "              \n",
    "epochs=10  \n",
    "\n",
    "history = model.fit(partial_X_train,\n",
    "                    partial_y_train,\n",
    "                    epochs=epochs,\n",
    "                    batch_size=64,\n",
    "                    validation_data=(X_val, y_val),\n",
    "                    verbose=1)"
   ]
  },
  {
   "cell_type": "code",
   "execution_count": 14,
   "id": "51df4c31",
   "metadata": {},
   "outputs": [
    {
     "name": "stdout",
     "output_type": "stream",
     "text": [
      "Epoch 1/10\n",
      "1816/1816 [==============================] - 25s 5ms/step - loss: 0.3924 - accuracy: 0.8183 - val_loss: 0.3321 - val_accuracy: 0.8556\n",
      "Epoch 2/10\n",
      "1816/1816 [==============================] - 9s 5ms/step - loss: 0.3073 - accuracy: 0.8698 - val_loss: 0.3370 - val_accuracy: 0.8537\n",
      "Epoch 3/10\n",
      "1816/1816 [==============================] - 9s 5ms/step - loss: 0.2693 - accuracy: 0.8887 - val_loss: 0.3274 - val_accuracy: 0.8563\n",
      "Epoch 4/10\n",
      "1816/1816 [==============================] - 9s 5ms/step - loss: 0.2345 - accuracy: 0.9075 - val_loss: 0.3360 - val_accuracy: 0.8590\n",
      "Epoch 5/10\n",
      "1816/1816 [==============================] - 9s 5ms/step - loss: 0.2007 - accuracy: 0.9226 - val_loss: 0.3791 - val_accuracy: 0.8518\n",
      "Epoch 6/10\n",
      "1816/1816 [==============================] - 9s 5ms/step - loss: 0.1726 - accuracy: 0.9355 - val_loss: 0.3914 - val_accuracy: 0.8452\n",
      "Epoch 7/10\n",
      "1816/1816 [==============================] - 9s 5ms/step - loss: 0.1479 - accuracy: 0.9454 - val_loss: 0.4203 - val_accuracy: 0.8476\n",
      "Epoch 8/10\n",
      "1816/1816 [==============================] - 9s 5ms/step - loss: 0.1278 - accuracy: 0.9528 - val_loss: 0.4889 - val_accuracy: 0.8405\n",
      "Epoch 9/10\n",
      "1816/1816 [==============================] - 9s 5ms/step - loss: 0.1116 - accuracy: 0.9597 - val_loss: 0.5545 - val_accuracy: 0.8234\n",
      "Epoch 10/10\n",
      "1816/1816 [==============================] - 9s 5ms/step - loss: 0.0969 - accuracy: 0.9643 - val_loss: 0.5673 - val_accuracy: 0.8292\n"
     ]
    }
   ],
   "source": [
    "model_2.compile(optimizer='RMSprop',\n",
    "              loss='binary_crossentropy',\n",
    "              metrics=['accuracy'])\n",
    "              \n",
    "epochs=10  \n",
    "\n",
    "history_2 = model_2.fit(partial_X_train,\n",
    "                    partial_y_train,\n",
    "                    epochs=epochs,\n",
    "                    batch_size=64,\n",
    "                    validation_data=(X_val, y_val),\n",
    "                    verbose=1)"
   ]
  },
  {
   "cell_type": "code",
   "execution_count": 15,
   "id": "3951c9e8",
   "metadata": {},
   "outputs": [
    {
     "name": "stdout",
     "output_type": "stream",
     "text": [
      "Epoch 1/10\n",
      "1816/1816 [==============================] - 10s 5ms/step - loss: 0.3877 - accuracy: 0.8251 - val_loss: 0.3397 - val_accuracy: 0.8531\n",
      "Epoch 2/10\n",
      "1816/1816 [==============================] - 9s 5ms/step - loss: 0.3073 - accuracy: 0.8702 - val_loss: 0.3175 - val_accuracy: 0.8626\n",
      "Epoch 3/10\n",
      "1816/1816 [==============================] - 9s 5ms/step - loss: 0.2714 - accuracy: 0.8881 - val_loss: 0.3310 - val_accuracy: 0.8580\n",
      "Epoch 4/10\n",
      "1816/1816 [==============================] - 9s 5ms/step - loss: 0.2374 - accuracy: 0.9050 - val_loss: 0.3271 - val_accuracy: 0.8583\n",
      "Epoch 5/10\n",
      "1816/1816 [==============================] - 9s 5ms/step - loss: 0.2048 - accuracy: 0.9195 - val_loss: 0.3500 - val_accuracy: 0.8567\n",
      "Epoch 6/10\n",
      "1816/1816 [==============================] - 9s 5ms/step - loss: 0.1760 - accuracy: 0.9328 - val_loss: 0.4011 - val_accuracy: 0.8486\n",
      "Epoch 7/10\n",
      "1816/1816 [==============================] - 9s 5ms/step - loss: 0.1513 - accuracy: 0.9443 - val_loss: 0.4099 - val_accuracy: 0.8469\n",
      "Epoch 8/10\n",
      "1816/1816 [==============================] - 9s 5ms/step - loss: 0.1308 - accuracy: 0.9521 - val_loss: 0.4392 - val_accuracy: 0.8360\n",
      "Epoch 9/10\n",
      "1816/1816 [==============================] - 9s 5ms/step - loss: 0.1150 - accuracy: 0.9584 - val_loss: 0.4973 - val_accuracy: 0.8390\n",
      "Epoch 10/10\n",
      "1816/1816 [==============================] - 9s 5ms/step - loss: 0.1016 - accuracy: 0.9630 - val_loss: 0.5260 - val_accuracy: 0.8335\n"
     ]
    }
   ],
   "source": [
    "model_3.compile(optimizer='RMSprop',\n",
    "              loss='binary_crossentropy',\n",
    "              metrics=['accuracy'])\n",
    "              \n",
    "epochs=10  \n",
    "\n",
    "history_3 = model_3.fit(partial_X_train,\n",
    "                    partial_y_train,\n",
    "                    epochs=epochs,\n",
    "                    batch_size=64,\n",
    "                    validation_data=(X_val, y_val),\n",
    "                    verbose=1)"
   ]
  },
  {
   "cell_type": "markdown",
   "id": "b8c72eb6",
   "metadata": {},
   "source": [
    "## 6) Loss, Accuracy 그래프 시각화"
   ]
  },
  {
   "cell_type": "code",
   "execution_count": 16,
   "id": "759a5d37",
   "metadata": {},
   "outputs": [
    {
     "name": "stdout",
     "output_type": "stream",
     "text": [
      "1537/1537 - 4s - loss: 0.3513 - accuracy: 0.8675\n",
      "[0.35128989815711975, 0.8674654960632324]\n"
     ]
    }
   ],
   "source": [
    "results = model.evaluate(X_test,  y_test, verbose=2)\n",
    "\n",
    "print(results)"
   ]
  },
  {
   "cell_type": "code",
   "execution_count": 17,
   "id": "3bfe44ed",
   "metadata": {},
   "outputs": [
    {
     "name": "stdout",
     "output_type": "stream",
     "text": [
      "1537/1537 - 3s - loss: 0.5884 - accuracy: 0.8258\n",
      "[0.5883729457855225, 0.8258233666419983]\n"
     ]
    }
   ],
   "source": [
    "results_2 = model_2.evaluate(X_test,  y_test, verbose=2)\n",
    "\n",
    "print(results_2)"
   ]
  },
  {
   "cell_type": "code",
   "execution_count": 18,
   "id": "cb5b9891",
   "metadata": {},
   "outputs": [
    {
     "name": "stdout",
     "output_type": "stream",
     "text": [
      "1537/1537 - 3s - loss: 0.5467 - accuracy: 0.8267\n",
      "[0.5467084050178528, 0.8266777992248535]\n"
     ]
    }
   ],
   "source": [
    "results_3 = model_3.evaluate(X_test,  y_test, verbose=2)\n",
    "\n",
    "print(results_3)"
   ]
  },
  {
   "cell_type": "code",
   "execution_count": 19,
   "id": "30795eb8",
   "metadata": {},
   "outputs": [],
   "source": [
    "history_dict = history.history"
   ]
  },
  {
   "cell_type": "code",
   "execution_count": 20,
   "id": "eed4c56f",
   "metadata": {},
   "outputs": [],
   "source": [
    "history_dict_2 = history_2.history"
   ]
  },
  {
   "cell_type": "code",
   "execution_count": 21,
   "id": "2b71a144",
   "metadata": {},
   "outputs": [],
   "source": [
    "history_dict_3 = history_3.history"
   ]
  },
  {
   "cell_type": "code",
   "execution_count": 23,
   "id": "f7d8a3c7",
   "metadata": {},
   "outputs": [
    {
     "data": {
      "image/png": "[encoded data removed]",
      "text/plain": [
       "<Figure size 432x288 with 2 Axes>"
      ]
     },
     "metadata": {
      "needs_background": "light"
     },
     "output_type": "display_data"
    }
   ],
   "source": [
    "import matplotlib.pyplot as plt\n",
    "\n",
    "acc_1 = history_dict['accuracy']\n",
    "val_acc_1 = history_dict['val_accuracy']\n",
    "loss_1 = history_dict['loss']\n",
    "val_loss_1 = history_dict['val_loss']\n",
    "\n",
    "epochs = range(1, len(acc_1) + 1)\n",
    "\n",
    "plt.subplot(1, 2, 1)\n",
    "\n",
    "plt.plot(epochs, loss_1, 'bo', label='Training loss')\n",
    "\n",
    "plt.plot(epochs, val_loss_1, 'b', label='Validation loss')\n",
    "plt.title('Training and validation loss')\n",
    "plt.xlabel('Epochs')\n",
    "plt.ylabel('Loss')\n",
    "plt.legend()\n",
    "\n",
    "plt.subplot(1, 2, 2)\n",
    "plt.plot(epochs, acc_1, 'bo', label='Training acc')\n",
    "plt.plot(epochs, val_acc_1, 'b', label='Validation acc')\n",
    "plt.title('Training and validation accuracy')\n",
    "plt.xlabel('Epochs')\n",
    "plt.ylabel('Accuracy')\n",
    "plt.legend()\n",
    "\n",
    "plt.show()"
   ]
  },
  {
   "cell_type": "code",
   "execution_count": 24,
   "id": "af2f361c",
   "metadata": {},
   "outputs": [
    {
     "data": {
      "image/png": "[encoded data removed]",
      "text/plain": [
       "<Figure size 432x288 with 2 Axes>"
      ]
     },
     "metadata": {
      "needs_background": "light"
     },
     "output_type": "display_data"
    }
   ],
   "source": [
    "plt.clf()  \n",
    "\n",
    "acc_2 = history_dict_2['accuracy']\n",
    "val_acc_2 = history_dict_2['val_accuracy']\n",
    "loss_2 = history_dict_2['loss']\n",
    "val_loss_2 = history_dict_2['val_loss']\n",
    "\n",
    "epochs = range(1, len(acc_2) + 1)\n",
    "\n",
    "plt.subplot(1, 2, 1)\n",
    "\n",
    "plt.plot(epochs, loss_2, 'bo', label='Training loss')\n",
    "\n",
    "plt.plot(epochs, val_loss_2, 'b', label='Validation loss')\n",
    "plt.title('Training and validation loss')\n",
    "plt.xlabel('Epochs')\n",
    "plt.ylabel('Loss')\n",
    "plt.legend()\n",
    "\n",
    "plt.subplot(1, 2, 2)\n",
    "plt.plot(epochs, acc_2, 'bo', label='Training acc')\n",
    "plt.plot(epochs, val_acc_2, 'b', label='Validation acc')\n",
    "plt.title('Training and validation accuracy')\n",
    "plt.xlabel('Epochs')\n",
    "plt.ylabel('Accuracy')\n",
    "plt.legend()\n",
    "\n",
    "plt.show()"
   ]
  },
  {
   "cell_type": "code",
   "execution_count": 25,
   "id": "3a40032e",
   "metadata": {},
   "outputs": [
    {
     "data": {
      "image/png": "[encoded data removed]",
      "text/plain": [
       "<Figure size 432x288 with 2 Axes>"
      ]
     },
     "metadata": {
      "needs_background": "light"
     },
     "output_type": "display_data"
    }
   ],
   "source": [
    "plt.clf()  \n",
    "\n",
    "acc_3 = history_dict_3['accuracy']\n",
    "val_acc_3 = history_dict_3['val_accuracy']\n",
    "loss_3 = history_dict_3['loss']\n",
    "val_loss_3 = history_dict_3['val_loss']\n",
    "\n",
    "epochs = range(1, len(acc_3) + 1)\n",
    "\n",
    "plt.subplot(1, 2, 1)\n",
    "\n",
    "plt.plot(epochs, loss_3, 'bo', label='Training loss')\n",
    "\n",
    "plt.plot(epochs, val_loss_3, 'b', label='Validation loss')\n",
    "plt.title('Training and validation loss')\n",
    "plt.xlabel('Epochs')\n",
    "plt.ylabel('Loss')\n",
    "plt.legend()\n",
    "\n",
    "plt.subplot(1, 2, 2)\n",
    "plt.plot(epochs, acc_3, 'bo', label='Training acc')\n",
    "plt.plot(epochs, val_acc_3, 'b', label='Validation acc')\n",
    "plt.title('Training and validation accuracy')\n",
    "plt.xlabel('Epochs')\n",
    "plt.ylabel('Accuracy')\n",
    "plt.legend()\n",
    "\n",
    "plt.show()"
   ]
  },
  {
   "cell_type": "markdown",
   "id": "a42e3e7b",
   "metadata": {},
   "source": [
    "- LSTM, RNN, CNN 세 가지 모델로 시행해본 결과 LSTM -> CNN -> RNN 순으로 정확도가 높은 것을 확인할 수 있었습니다.\n",
    "- 시행해본 결과 10 epoch부터는 정확도나 loss 측면에서 validation과 train간의 간격이 벌어지는 것을 확인할 수 있습니다.\n",
    "    - (이후 부터는 10 epoch만 실행)"
   ]
  },
  {
   "cell_type": "markdown",
   "id": "7e743040",
   "metadata": {},
   "source": [
    "## 7) 학습된 Embedding 레이어 분석"
   ]
  },
  {
   "cell_type": "markdown",
   "id": "304be86a",
   "metadata": {},
   "source": [
    "### 자체학습한 Embedding"
   ]
  },
  {
   "cell_type": "code",
   "execution_count": 26,
   "id": "aae44983",
   "metadata": {},
   "outputs": [],
   "source": [
    "word2vec_file_path = os.getenv('HOME')+'/aiffel/sentiment_classification/data/word2vec.txt'\n",
    "f = open(word2vec_file_path, 'w')\n",
    "f.write('{} {}\\n'.format(vocab_size-4, word_vector_dim))  # 몇개의 벡터를 얼마 사이즈로 기재할지 타이틀을 씁니다.\n",
    "\n",
    "# 단어 개수(에서 특수문자 4개는 제외하고)만큼의 워드 벡터를 파일에 기록합니다. \n",
    "vectors = model.get_weights()[0]\n",
    "for i in range(4,vocab_size):\n",
    "    f.write('{} {}\\n'.format(index_to_word[i], ' '.join(map(str, list(vectors[i, :])))))\n",
    "f.close()"
   ]
  },
  {
   "cell_type": "code",
   "execution_count": 27,
   "id": "f1a39c69",
   "metadata": {},
   "outputs": [],
   "source": [
    "from gensim.models.keyedvectors import Word2VecKeyedVectors\n",
    "from gensim.models import Word2Vec\n",
    "word2vec_file_path = '~/aiffel/sentiment_classification/data/word2vec.txt'\n",
    "my_trained_vector = Word2VecKeyedVectors.load_word2vec_format(word2vec_file_path)"
   ]
  },
  {
   "cell_type": "code",
   "execution_count": 28,
   "id": "906cdb70",
   "metadata": {},
   "outputs": [
    {
     "data": {
      "text/plain": [
       "[('개꿀', 0.9256995916366577),\n",
       " ('깊', 0.8812358975410461),\n",
       " ('펑펑', 0.8685942888259888),\n",
       " ('단연', 0.8629304766654968),\n",
       " ('꽤', 0.8583258986473083),\n",
       " ('즐겁', 0.8563510775566101),\n",
       " ('가슴', 0.8504825830459595),\n",
       " ('빕', 0.8492314219474792),\n",
       " ('엄청난', 0.8440449833869934),\n",
       " ('슬픈', 0.8402259945869446)]"
      ]
     },
     "execution_count": 28,
     "metadata": {},
     "output_type": "execute_result"
    }
   ],
   "source": [
    "my_trained_vector.similar_by_word(\"꿀\")"
   ]
  },
  {
   "cell_type": "markdown",
   "id": "2931ee42",
   "metadata": {},
   "source": [
    "### 사전 학습된 Embedding"
   ]
  },
  {
   "cell_type": "code",
   "execution_count": 29,
   "id": "759c71ab",
   "metadata": {},
   "outputs": [
    {
     "data": {
      "text/plain": [
       "[('벌꿀', 0.8704620003700256),\n",
       " ('호박', 0.8475426435470581),\n",
       " ('달걀', 0.83741694688797),\n",
       " ('찻잎', 0.8338732123374939),\n",
       " ('팥', 0.8337163329124451),\n",
       " ('생선', 0.8286590576171875),\n",
       " ('된장', 0.8252726197242737),\n",
       " ('찹쌀', 0.8228743672370911),\n",
       " ('닭', 0.8181455135345459),\n",
       " ('국물', 0.8178659081459045)]"
      ]
     },
     "execution_count": 29,
     "metadata": {},
     "output_type": "execute_result"
    }
   ],
   "source": [
    "from gensim.models.keyedvectors import Word2VecKeyedVectors\n",
    "\n",
    "word2vec_file_path_2 = './data/word2vec_ko.model'\n",
    "pre_trained_vector = Word2VecKeyedVectors.load(word2vec_file_path_2)\n",
    "vector = pre_trained_vector.wv.most_similar('꿀')\n",
    "vector"
   ]
  },
  {
   "cell_type": "code",
   "execution_count": 36,
   "id": "f41cf4ef",
   "metadata": {},
   "outputs": [
    {
     "data": {
      "text/plain": [
       "<gensim.models.word2vec.Word2Vec at 0x7fa1cadc3a60>"
      ]
     },
     "execution_count": 36,
     "metadata": {},
     "output_type": "execute_result"
    }
   ],
   "source": [
    "pre_trained_vector"
   ]
  },
  {
   "cell_type": "code",
   "execution_count": 37,
   "id": "2a4802fc",
   "metadata": {},
   "outputs": [
    {
     "data": {
      "text/plain": [
       "<gensim.models.keyedvectors.KeyedVectors at 0x7fa1c9984700>"
      ]
     },
     "execution_count": 37,
     "metadata": {},
     "output_type": "execute_result"
    }
   ],
   "source": [
    "my_trained_vector"
   ]
  },
  {
   "attachments": {
    "image.png": {
     "image/png": "[encoded data removed]"
    }
   },
   "cell_type": "markdown",
   "id": "3305403f",
   "metadata": {},
   "source": [
    "## 8) 한국어 Word2Vec 임베딩 활용하여 성능 개선\n",
    "- 한국어 Word2Vec은 /data 폴더 안에 있는 word2vec_ko.model을 활용하세요.\n",
    "- 한국어 Word2Vec을 활용할 때는 load_word2vec_format() 형태가 아닌 load() 형태로 모델을 불러와주세요. 또한 모델을 활용할 때에는 아래 예시와 같이 .wv를 붙여서 활용합니다. 좀더 자세한 활용법에 대해선 다음 링크들을 참조해주세요.\n",
    "\n",
    "- https://radimrehurek.com/gensim/auto_examples/tutorials/run_word2vec.html#storing-and-loading-models\n",
    "- https://radimrehurek.com/gensim/models/keyedvectors.html\n",
    "\n",
    "![image.png](attachment:image.png)"
   ]
  },
  {
   "cell_type": "code",
   "execution_count": 41,
   "id": "41520c7f",
   "metadata": {},
   "outputs": [
    {
     "data": {
      "text/plain": [
       "(100,)"
      ]
     },
     "execution_count": 41,
     "metadata": {},
     "output_type": "execute_result"
    }
   ],
   "source": [
    "word2vec = Word2VecKeyedVectors.load(word2vec_file_path_2)\n",
    "vector = word2vec.wv['꿀']\n",
    "vector.shape "
   ]
  },
  {
   "cell_type": "code",
   "execution_count": 44,
   "id": "608d60dc",
   "metadata": {},
   "outputs": [],
   "source": [
    "from tensorflow.keras.initializers import Constant\n",
    "\n",
    "vocab_size = 10000    \n",
    "word_vector_dim = 100  \n",
    "\n",
    "embedding_matrix = np.random.rand(vocab_size, word_vector_dim)\n",
    "\n",
    "# embedding_matrix에 Word2Vec 워드 벡터를 단어 하나씩마다 차례차례 카피\n",
    "for i in range(4,vocab_size):\n",
    "    if index_to_word[i] in word2vec.wv:\n",
    "        embedding_matrix[i] = word2vec.wv[index_to_word[i]]"
   ]
  },
  {
   "cell_type": "code",
   "execution_count": 45,
   "id": "f8a9bb16",
   "metadata": {},
   "outputs": [
    {
     "name": "stdout",
     "output_type": "stream",
     "text": [
      "Model: \"sequential_4\"\n",
      "_________________________________________________________________\n",
      "Layer (type)                 Output Shape              Param #   \n",
      "=================================================================\n",
      "embedding_4 (Embedding)      (None, 41, 100)           1000000   \n",
      "_________________________________________________________________\n",
      "lstm_1 (LSTM)                (None, 128)               117248    \n",
      "_________________________________________________________________\n",
      "dense_5 (Dense)              (None, 1)                 129       \n",
      "=================================================================\n",
      "Total params: 1,117,377\n",
      "Trainable params: 1,117,377\n",
      "Non-trainable params: 0\n",
      "_________________________________________________________________\n"
     ]
    }
   ],
   "source": [
    "from tensorflow.keras.initializers import Constant\n",
    "\n",
    "model = tf.keras.Sequential()\n",
    "model.add(tf.keras.layers.Embedding(vocab_size, \n",
    "                                 word_vector_dim, \n",
    "                                 embeddings_initializer=Constant(embedding_matrix),  \n",
    "                                 input_length=maxlen, \n",
    "                                 trainable=True))\n",
    "model.add(tf.keras.layers.LSTM(hidden_units))\n",
    "model.add(tf.keras.layers.Dense(1, activation='sigmoid'))\n",
    "\n",
    "model.summary()"
   ]
  },
  {
   "cell_type": "code",
   "execution_count": 46,
   "id": "98dca443",
   "metadata": {},
   "outputs": [
    {
     "name": "stdout",
     "output_type": "stream",
     "text": [
      "Epoch 1/10\n",
      "1816/1816 [==============================] - 13s 7ms/step - loss: 0.4188 - accuracy: 0.8043 - val_loss: 0.3956 - val_accuracy: 0.8159\n",
      "Epoch 2/10\n",
      "1816/1816 [==============================] - 12s 6ms/step - loss: 0.3183 - accuracy: 0.8616 - val_loss: 0.3259 - val_accuracy: 0.8582\n",
      "Epoch 3/10\n",
      "1816/1816 [==============================] - 12s 6ms/step - loss: 0.2807 - accuracy: 0.8813 - val_loss: 0.3137 - val_accuracy: 0.8627\n",
      "Epoch 4/10\n",
      "1816/1816 [==============================] - 11s 6ms/step - loss: 0.2513 - accuracy: 0.8952 - val_loss: 0.3144 - val_accuracy: 0.8673\n",
      "Epoch 5/10\n",
      "1816/1816 [==============================] - 11s 6ms/step - loss: 0.2240 - accuracy: 0.9089 - val_loss: 0.3336 - val_accuracy: 0.8622\n",
      "Epoch 6/10\n",
      "1816/1816 [==============================] - 11s 6ms/step - loss: 0.1980 - accuracy: 0.9206 - val_loss: 0.3329 - val_accuracy: 0.8672\n",
      "Epoch 7/10\n",
      "1816/1816 [==============================] - 11s 6ms/step - loss: 0.1721 - accuracy: 0.9332 - val_loss: 0.3576 - val_accuracy: 0.8669\n",
      "Epoch 8/10\n",
      "1816/1816 [==============================] - 11s 6ms/step - loss: 0.1486 - accuracy: 0.9429 - val_loss: 0.3970 - val_accuracy: 0.8585\n",
      "Epoch 9/10\n",
      "1816/1816 [==============================] - 11s 6ms/step - loss: 0.1276 - accuracy: 0.9520 - val_loss: 0.4221 - val_accuracy: 0.8573\n",
      "Epoch 10/10\n",
      "1816/1816 [==============================] - 12s 6ms/step - loss: 0.1086 - accuracy: 0.9597 - val_loss: 0.4503 - val_accuracy: 0.8609\n"
     ]
    }
   ],
   "source": [
    "model.compile(optimizer='RMSprop',\n",
    "              loss='binary_crossentropy',\n",
    "              metrics=['accuracy'])\n",
    "              \n",
    "epochs=10  \n",
    "\n",
    "history = model.fit(partial_X_train,\n",
    "                    partial_y_train,\n",
    "                    epochs=epochs,\n",
    "                    batch_size=64,\n",
    "                    validation_data=(X_val, y_val),\n",
    "                    verbose=1)"
   ]
  },
  {
   "cell_type": "code",
   "execution_count": 47,
   "id": "b41c58cd",
   "metadata": {},
   "outputs": [
    {
     "name": "stdout",
     "output_type": "stream",
     "text": [
      "1537/1537 - 3s - loss: 0.4580 - accuracy: 0.8589\n",
      "[0.4580356776714325, 0.8588807582855225]\n"
     ]
    }
   ],
   "source": [
    "results = model.evaluate(X_test,  y_test, verbose=2)\n",
    "\n",
    "print(results)"
   ]
  },
  {
   "cell_type": "code",
   "execution_count": 48,
   "id": "eb905a38",
   "metadata": {},
   "outputs": [
    {
     "data": {
      "image/png": "[encoded data removed]",
      "text/plain": [
       "<Figure size 432x288 with 1 Axes>"
      ]
     },
     "metadata": {
      "needs_background": "light"
     },
     "output_type": "display_data"
    }
   ],
   "source": [
    "import matplotlib.pyplot as plt\n",
    "\n",
    "acc = history_dict['accuracy']\n",
    "val_acc = history_dict['val_accuracy']\n",
    "loss = history_dict['loss']\n",
    "val_loss = history_dict['val_loss']\n",
    "\n",
    "epochs = range(1, len(acc) + 1)\n",
    "\n",
    "plt.plot(epochs, loss, 'bo', label='Training loss')\n",
    "\n",
    "plt.plot(epochs, val_loss, 'b', label='Validation loss')\n",
    "plt.title('Training and validation loss')\n",
    "plt.xlabel('Epochs')\n",
    "plt.ylabel('Loss')\n",
    "plt.legend()\n",
    "\n",
    "plt.show()"
   ]
  },
  {
   "cell_type": "code",
   "execution_count": 49,
   "id": "e5e10dc7",
   "metadata": {},
   "outputs": [
    {
     "data": {
      "image/png": "[encoded data removed]",
      "text/plain": [
       "<Figure size 432x288 with 1 Axes>"
      ]
     },
     "metadata": {
      "needs_background": "light"
     },
     "output_type": "display_data"
    }
   ],
   "source": [
    "plt.clf() # 그림 초기화\n",
    "\n",
    "plt.plot(epochs, acc, 'bo', label='Training acc')\n",
    "plt.plot(epochs, val_acc, 'b', label='Validation acc')\n",
    "plt.title('Training and validation accuracy')\n",
    "plt.xlabel('Epochs')\n",
    "plt.ylabel('Accuracy')\n",
    "plt.legend()\n",
    "\n",
    "plt.show()"
   ]
  },
  {
   "cell_type": "code",
   "execution_count": 50,
   "id": "dc789a38",
   "metadata": {},
   "outputs": [
    {
     "name": "stdout",
     "output_type": "stream",
     "text": [
      "Model: \"sequential_5\"\n",
      "_________________________________________________________________\n",
      "Layer (type)                 Output Shape              Param #   \n",
      "=================================================================\n",
      "embedding_5 (Embedding)      (None, 41, 100)           1000000   \n",
      "_________________________________________________________________\n",
      "conv1d_4 (Conv1D)            (None, 35, 16)            11216     \n",
      "_________________________________________________________________\n",
      "max_pooling1d_2 (MaxPooling1 (None, 7, 16)             0         \n",
      "_________________________________________________________________\n",
      "conv1d_5 (Conv1D)            (None, 1, 16)             1808      \n",
      "_________________________________________________________________\n",
      "global_max_pooling1d_2 (Glob (None, 16)                0         \n",
      "_________________________________________________________________\n",
      "dense_6 (Dense)              (None, 8)                 136       \n",
      "_________________________________________________________________\n",
      "dense_7 (Dense)              (None, 1)                 9         \n",
      "=================================================================\n",
      "Total params: 1,013,169\n",
      "Trainable params: 1,013,169\n",
      "Non-trainable params: 0\n",
      "_________________________________________________________________\n"
     ]
    }
   ],
   "source": [
    "model_2 = tf.keras.Sequential()\n",
    "model_2.add(tf.keras.layers.Embedding(vocab_size, \n",
    "                                 word_vector_dim, \n",
    "                                 embeddings_initializer=Constant(embedding_matrix),  \n",
    "                                 input_length=maxlen, \n",
    "                                 trainable=True))\n",
    "model_2.add(tf.keras.layers.Conv1D(16, 7, activation='relu'))\n",
    "model_2.add(tf.keras.layers.MaxPooling1D(5))\n",
    "model_2.add(tf.keras.layers.Conv1D(16, 7, activation='relu'))\n",
    "model_2.add(tf.keras.layers.GlobalMaxPooling1D())\n",
    "model_2.add(tf.keras.layers.Dense(8, activation='relu'))\n",
    "model_2.add(tf.keras.layers.Dense(1, activation='sigmoid'))\n",
    "\n",
    "model_2.summary()"
   ]
  },
  {
   "cell_type": "code",
   "execution_count": 51,
   "id": "1c8d813f",
   "metadata": {},
   "outputs": [
    {
     "name": "stdout",
     "output_type": "stream",
     "text": [
      "Epoch 1/10\n",
      "1816/1816 [==============================] - 10s 5ms/step - loss: 0.5220 - accuracy: 0.7335 - val_loss: 0.4308 - val_accuracy: 0.8022\n",
      "Epoch 2/10\n",
      "1816/1816 [==============================] - 9s 5ms/step - loss: 0.3970 - accuracy: 0.8209 - val_loss: 0.3979 - val_accuracy: 0.8175\n",
      "Epoch 3/10\n",
      "1816/1816 [==============================] - 9s 5ms/step - loss: 0.3582 - accuracy: 0.8418 - val_loss: 0.3720 - val_accuracy: 0.8323\n",
      "Epoch 4/10\n",
      "1816/1816 [==============================] - 9s 5ms/step - loss: 0.3368 - accuracy: 0.8539 - val_loss: 0.3534 - val_accuracy: 0.8440\n",
      "Epoch 5/10\n",
      "1816/1816 [==============================] - 9s 5ms/step - loss: 0.3218 - accuracy: 0.8616 - val_loss: 0.3555 - val_accuracy: 0.8461\n",
      "Epoch 6/10\n",
      "1816/1816 [==============================] - 9s 5ms/step - loss: 0.3102 - accuracy: 0.8684 - val_loss: 0.3571 - val_accuracy: 0.8477\n",
      "Epoch 7/10\n",
      "1816/1816 [==============================] - 9s 5ms/step - loss: 0.2997 - accuracy: 0.8733 - val_loss: 0.3633 - val_accuracy: 0.8493\n",
      "Epoch 8/10\n",
      "1816/1816 [==============================] - 9s 5ms/step - loss: 0.2909 - accuracy: 0.8780 - val_loss: 0.3714 - val_accuracy: 0.8386\n",
      "Epoch 9/10\n",
      "1816/1816 [==============================] - 9s 5ms/step - loss: 0.2835 - accuracy: 0.8823 - val_loss: 0.3572 - val_accuracy: 0.8473\n",
      "Epoch 10/10\n",
      "1816/1816 [==============================] - 9s 5ms/step - loss: 0.2768 - accuracy: 0.8855 - val_loss: 0.3568 - val_accuracy: 0.8494\n"
     ]
    }
   ],
   "source": [
    "model_2.compile(optimizer='RMSprop',\n",
    "              loss='binary_crossentropy',\n",
    "              metrics=['accuracy'])\n",
    "              \n",
    "epochs=10  \n",
    "\n",
    "history_2 = model_2.fit(partial_X_train,\n",
    "                    partial_y_train,\n",
    "                    epochs=epochs,\n",
    "                    batch_size=64,\n",
    "                    validation_data=(X_val, y_val),\n",
    "                    verbose=1)"
   ]
  },
  {
   "cell_type": "code",
   "execution_count": 53,
   "id": "eb2d122c",
   "metadata": {},
   "outputs": [
    {
     "name": "stdout",
     "output_type": "stream",
     "text": [
      "1537/1537 - 3s - loss: 0.3692 - accuracy: 0.8467\n",
      "[0.36915671825408936, 0.846674919128418]\n"
     ]
    }
   ],
   "source": [
    "results_2 = model_2.evaluate(X_test,  y_test, verbose=2)\n",
    "\n",
    "print(results_2)\n",
    "\n",
    "history_dict_2 = history_2.history"
   ]
  },
  {
   "cell_type": "code",
   "execution_count": 52,
   "id": "a6fcf873",
   "metadata": {},
   "outputs": [
    {
     "data": {
      "image/png": "[encoded data removed]",
      "text/plain": [
       "<Figure size 432x288 with 2 Axes>"
      ]
     },
     "metadata": {
      "needs_background": "light"
     },
     "output_type": "display_data"
    }
   ],
   "source": [
    "plt.clf()  \n",
    "\n",
    "acc_2 = history_dict_2['accuracy']\n",
    "val_acc_2 = history_dict_2['val_accuracy']\n",
    "loss_2 = history_dict_2['loss']\n",
    "val_loss_2 = history_dict_2['val_loss']\n",
    "\n",
    "epochs = range(1, len(acc_2) + 1)\n",
    "\n",
    "plt.subplot(1, 2, 1)\n",
    "\n",
    "plt.plot(epochs, loss_2, 'bo', label='Training loss')\n",
    "\n",
    "plt.plot(epochs, val_loss_2, 'b', label='Validation loss')\n",
    "plt.title('Training and validation loss')\n",
    "plt.xlabel('Epochs')\n",
    "plt.ylabel('Loss')\n",
    "plt.legend()\n",
    "\n",
    "plt.subplot(1, 2, 2)\n",
    "plt.plot(epochs, acc_2, 'bo', label='Training acc')\n",
    "plt.plot(epochs, val_acc_2, 'b', label='Validation acc')\n",
    "plt.title('Training and validation accuracy')\n",
    "plt.xlabel('Epochs')\n",
    "plt.ylabel('Accuracy')\n",
    "plt.legend()\n",
    "\n",
    "plt.show()"
   ]
  },
  {
   "cell_type": "code",
   "execution_count": 54,
   "id": "d13c9097",
   "metadata": {},
   "outputs": [
    {
     "name": "stdout",
     "output_type": "stream",
     "text": [
      "Model: \"sequential_6\"\n",
      "_________________________________________________________________\n",
      "Layer (type)                 Output Shape              Param #   \n",
      "=================================================================\n",
      "embedding_6 (Embedding)      (None, 41, 100)           1000000   \n",
      "_________________________________________________________________\n",
      "conv1d_6 (Conv1D)            (None, 35, 16)            11216     \n",
      "_________________________________________________________________\n",
      "max_pooling1d_3 (MaxPooling1 (None, 7, 16)             0         \n",
      "_________________________________________________________________\n",
      "conv1d_7 (Conv1D)            (None, 1, 16)             1808      \n",
      "_________________________________________________________________\n",
      "global_max_pooling1d_3 (Glob (None, 16)                0         \n",
      "_________________________________________________________________\n",
      "dense_8 (Dense)              (None, 8)                 136       \n",
      "_________________________________________________________________\n",
      "dense_9 (Dense)              (None, 1)                 9         \n",
      "=================================================================\n",
      "Total params: 1,013,169\n",
      "Trainable params: 1,013,169\n",
      "Non-trainable params: 0\n",
      "_________________________________________________________________\n"
     ]
    }
   ],
   "source": [
    "model_3 = tf.keras.Sequential()\n",
    "model_3.add(tf.keras.layers.Embedding(vocab_size, \n",
    "                                 word_vector_dim, \n",
    "                                 embeddings_initializer=Constant(embedding_matrix),\n",
    "                                 input_length=maxlen, \n",
    "                                 trainable=True))\n",
    "model_3.add(tf.keras.layers.Conv1D(16, 7, activation='relu'))\n",
    "model_3.add(tf.keras.layers.MaxPooling1D(5))\n",
    "model_3.add(tf.keras.layers.Conv1D(16, 7, activation='relu'))\n",
    "model_3.add(tf.keras.layers.GlobalMaxPooling1D())\n",
    "model_3.add(tf.keras.layers.Dense(8, activation='relu'))\n",
    "model_3.add(tf.keras.layers.Dense(1, activation='sigmoid'))  # 최종 출력은 긍정/부정을 나타내는 1dim 입니다.\n",
    "\n",
    "model_3.summary()"
   ]
  },
  {
   "cell_type": "code",
   "execution_count": 55,
   "id": "a45425b8",
   "metadata": {},
   "outputs": [
    {
     "name": "stdout",
     "output_type": "stream",
     "text": [
      "Epoch 1/10\n",
      "1816/1816 [==============================] - 10s 5ms/step - loss: 0.5398 - accuracy: 0.7167 - val_loss: 0.4412 - val_accuracy: 0.7935\n",
      "Epoch 2/10\n",
      "1816/1816 [==============================] - 9s 5ms/step - loss: 0.3986 - accuracy: 0.8197 - val_loss: 0.3964 - val_accuracy: 0.8202\n",
      "Epoch 3/10\n",
      "1816/1816 [==============================] - 9s 5ms/step - loss: 0.3572 - accuracy: 0.8422 - val_loss: 0.3617 - val_accuracy: 0.8384\n",
      "Epoch 4/10\n",
      "1816/1816 [==============================] - 9s 5ms/step - loss: 0.3355 - accuracy: 0.8537 - val_loss: 0.3483 - val_accuracy: 0.8454\n",
      "Epoch 5/10\n",
      "1816/1816 [==============================] - 9s 5ms/step - loss: 0.3221 - accuracy: 0.8622 - val_loss: 0.3591 - val_accuracy: 0.8487\n",
      "Epoch 6/10\n",
      "1816/1816 [==============================] - 9s 5ms/step - loss: 0.3115 - accuracy: 0.8684 - val_loss: 0.3562 - val_accuracy: 0.8501\n",
      "Epoch 7/10\n",
      "1816/1816 [==============================] - 9s 5ms/step - loss: 0.3005 - accuracy: 0.8743 - val_loss: 0.3532 - val_accuracy: 0.8522\n",
      "Epoch 8/10\n",
      "1816/1816 [==============================] - 9s 5ms/step - loss: 0.2943 - accuracy: 0.8796 - val_loss: 0.3564 - val_accuracy: 0.8539\n",
      "Epoch 9/10\n",
      "1816/1816 [==============================] - 9s 5ms/step - loss: 0.2831 - accuracy: 0.8834 - val_loss: 0.3634 - val_accuracy: 0.8522\n",
      "Epoch 10/10\n",
      "1816/1816 [==============================] - 9s 5ms/step - loss: 0.2792 - accuracy: 0.8875 - val_loss: 0.3642 - val_accuracy: 0.8552\n"
     ]
    }
   ],
   "source": [
    "model_3.compile(optimizer='RMSprop',\n",
    "              loss='binary_crossentropy',\n",
    "              metrics=['accuracy'])\n",
    "              \n",
    "epochs=10  \n",
    "\n",
    "history_3 = model_3.fit(partial_X_train,\n",
    "                    partial_y_train,\n",
    "                    epochs=epochs,\n",
    "                    batch_size=64,\n",
    "                    validation_data=(X_val, y_val),\n",
    "                    verbose=1)"
   ]
  },
  {
   "cell_type": "code",
   "execution_count": 56,
   "id": "2bfc4080",
   "metadata": {},
   "outputs": [
    {
     "name": "stdout",
     "output_type": "stream",
     "text": [
      "1537/1537 - 3s - loss: 0.3686 - accuracy: 0.8487\n",
      "[0.36861878633499146, 0.8487296104431152]\n"
     ]
    }
   ],
   "source": [
    "results_3 = model_3.evaluate(X_test,  y_test, verbose=2)\n",
    "\n",
    "print(results_3)\n",
    "\n",
    "history_dict_3 = history_3.history"
   ]
  },
  {
   "cell_type": "code",
   "execution_count": 57,
   "id": "10ced951",
   "metadata": {},
   "outputs": [
    {
     "data": {
      "image/png": "[encoded data removed]",
      "text/plain": [
       "<Figure size 432x288 with 2 Axes>"
      ]
     },
     "metadata": {
      "needs_background": "light"
     },
     "output_type": "display_data"
    }
   ],
   "source": [
    "plt.clf()  \n",
    "\n",
    "acc_3 = history_dict_3['accuracy']\n",
    "val_acc_3 = history_dict_3['val_accuracy']\n",
    "loss_3 = history_dict_3['loss']\n",
    "val_loss_3 = history_dict_3['val_loss']\n",
    "\n",
    "epochs = range(1, len(acc_3) + 1)\n",
    "\n",
    "plt.subplot(1, 2, 1)\n",
    "\n",
    "plt.plot(epochs, loss_3, 'bo', label='Training loss')\n",
    "\n",
    "plt.plot(epochs, val_loss_3, 'b', label='Validation loss')\n",
    "plt.title('Training and validation loss')\n",
    "plt.xlabel('Epochs')\n",
    "plt.ylabel('Loss')\n",
    "plt.legend()\n",
    "\n",
    "plt.subplot(1, 2, 2)\n",
    "plt.plot(epochs, acc_3, 'bo', label='Training acc')\n",
    "plt.plot(epochs, val_acc_3, 'b', label='Validation acc')\n",
    "plt.title('Training and validation accuracy')\n",
    "plt.xlabel('Epochs')\n",
    "plt.ylabel('Accuracy')\n",
    "plt.legend()\n",
    "\n",
    "plt.show()"
   ]
  },
  {
   "cell_type": "markdown",
   "id": "f502ac18",
   "metadata": {},
   "source": [
    "- 한국어 한국어 Word2Vec 임베딩를 활용하여 3가지 모델을 개선해 보았다. 결과적으로 LSTM의 경우 소폭 정확도가 감소되었지만 RNN 모델과 CNN 모델의 경우에는 정확도가 개선된 것을 확인할 수 있었다."
   ]
  },
  {
   "cell_type": "markdown",
   "id": "7384f2ed",
   "metadata": {},
   "source": [
    "## 프로젝트 결과 및 회고\n",
    "- 이번 프로젝트는 영화 분석 리뷰를 가지고 긍정인지 부정인지 분류하는 프로젝트이다. LSTM, RNN, CNN 세 가지 모델로 진행하였으며 여기에 임베딩 레이어를 추가하여 성능을 개선하고자 하였다.\n",
    "- 단순히 모델을 구현하여 진행하였을 때에는 LSTM이 가장 높은 성능을 보이는 것을 볼 수 있었으며 임베딩 레이어를 추가하였을 때에는 LSTM 모델은 정확도가 소폭 감소하고 나머지 CNN, RNN 모델을 눈에 띄게 개선되는 것을 확인할 수 있었다.\n",
    "- 중간과정으로 임베딩 레이어를 만들고 사전 학습된 임베딩 레이어와의 유사 단어를 비교해 보았다. 사전 학습된 임베딩의 경우 좀더 정제된 형태로 유사한 단어가 나오는 것을 확인할 수 있었으며 학습과정에서 만든 임베딩 레이어는 다소 투박한 형태의 단어가 나오는 것을 확인할 수 있었다."
   ]
  },
  {
   "cell_type": "code",
   "execution_count": null,
   "id": "a757171e",
   "metadata": {},
   "outputs": [],
   "source": []
  }
 ],
 "metadata": {
  "kernelspec": {
   "display_name": "Python 3 (ipykernel)",
   "language": "python",
   "name": "python3"
  },
  "language_info": {
   "codemirror_mode": {
    "name": "ipython",
    "version": 3
   },
   "file_extension": ".py",
   "mimetype": "text/x-python",
   "name": "python",
   "nbconvert_exporter": "python",
   "pygments_lexer": "ipython3",
   "version": "3.9.7"
  }
 },
 "nbformat": 4,
 "nbformat_minor": 5
}
